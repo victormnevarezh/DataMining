{
 "cells": [
  {
   "cell_type": "code",
   "execution_count": 2,
   "id": "f2f2d361",
   "metadata": {},
   "outputs": [
    {
     "data": {
      "text/plain": [
       "' \\n1.- Cargar el archivo a un Data Frame llamado “cereal” y crear un subconjunto de 20 registros\\ncompletos (independiente llamado “scereal” con los atributos (name, Manuf, Type, Calories,\\nProtein, Sodium, Potass, Vitamins).\\n\\n2.- Calcular en “scereal” la raíz cuadrada, media, varianza de los atributos (Calories, Sodium).\\n\\n3.- Sustituir los valores “0” por la media del atributo “Sodium” en “cereal”.\\n\\n4.- Eliminar los valores “NA” (nulos) en “cereal” y asignarlos a una variable llamada “sncereal”.\\n\\n5.- Crear una tabla de frecuencias de los atributos (Calories, Sodium, Potasium) y asignarla a\\nuna variable “tfrec”.\\n\\n6.- Encontrar los totales (mínimo, máximo, media, sd, etc) del dataset “sncereal”.\\n\\n7.- Crear un gráfico de pastel para los atributos (Sodium, Potasium) con el título “Pie de Sodio &\\nPotasio”.\\n\\n8.- Crear un gráfico de histograma del atributo “Manuf” (color rojo, salto de 10 elementos,\\netiqueta x= “Manufactura”, etiquetay= “Frecuencia”).\\n\\n9.- Detectar mediante el gráfico boxplot si existen “valores anómalos” con los atributos “sodio” y\\n“potasio”.\\n'"
      ]
     },
     "execution_count": 2,
     "metadata": {},
     "output_type": "execute_result"
    }
   ],
   "source": [
    "''' \n",
    "1.- Cargar el archivo a un Data Frame llamado “cereal” y crear un subconjunto de 20 registros\n",
    "completos (independiente llamado “scereal” con los atributos (name, Manuf, Type, Calories,\n",
    "Protein, Sodium, Potass, Vitamins).\n",
    "\n",
    "2.- Calcular en “scereal” la raíz cuadrada, media, varianza de los atributos (Calories, Sodium).\n",
    "\n",
    "3.- Sustituir los valores “0” por la media del atributo “Sodium” en “cereal”.\n",
    "\n",
    "4.- Eliminar los valores “NA” (nulos) en “cereal” y asignarlos a una variable llamada “sncereal”.\n",
    "\n",
    "5.- Crear una tabla de frecuencias de los atributos (Calories, Sodium, Potasium) y asignarla a\n",
    "una variable “tfrec”.\n",
    "\n",
    "6.- Encontrar los totales (mínimo, máximo, media, sd, etc) del dataset “sncereal”.\n",
    "\n",
    "7.- Crear un gráfico de pastel para los atributos (Sodium, Potasium) con el título “Pie de Sodio &\n",
    "Potasio”.\n",
    "\n",
    "8.- Crear un gráfico de histograma del atributo “Manuf” (color rojo, salto de 10 elementos,\n",
    "etiqueta x= “Manufactura”, etiquetay= “Frecuencia”).\n",
    "\n",
    "9.- Detectar mediante el gráfico boxplot si existen “valores anómalos” con los atributos “sodio” y\n",
    "“potasio”.\n",
    "'''"
   ]
  },
  {
   "cell_type": "code",
   "execution_count": 3,
   "id": "7e5abbf6",
   "metadata": {},
   "outputs": [
    {
     "name": "stdout",
     "output_type": "stream",
     "text": [
      "                          Name Manuf Type  Calories  Protein  Fat  Sodium  \\\n",
      "0                   100%_Bran     N    C         70        4    1     130   \n",
      "1           100%_Natural_Bran     Q    C        120        3    5      15   \n",
      "2                    All-Bran     K    C         70        4    1     260   \n",
      "3   All-Bran_with_Extra_Fiber     K    C         50        4    0     140   \n",
      "4              Almond_Delight     R    C        110        2    2     200   \n",
      "..                         ...   ...  ...       ...      ...  ...     ...   \n",
      "72                    Triples     G    C        110        2    1     250   \n",
      "73                       Trix     G    C        110        1    1     140   \n",
      "74                 Wheat_Chex     R    C        100        3    1     230   \n",
      "75                   Wheaties     G    C        100        3    1     200   \n",
      "76        Wheaties_Honey_Gold     G    C        110        2    1     200   \n",
      "\n",
      "    Fiber  Carbo  Sugars  ...  Weight  Cups     Rating  Cold  Nabisco  Quaker  \\\n",
      "0    10.0    5.0     6.0  ...     1.0  0.33  68.402973     1        1       0   \n",
      "1     2.0    8.0     8.0  ...     1.0  1.00  33.983679     1        0       1   \n",
      "2     9.0    7.0     5.0  ...     1.0  0.33  59.425505     1        0       0   \n",
      "3    14.0    8.0     0.0  ...     1.0  0.50  93.704912     1        0       0   \n",
      "4     1.0   14.0     8.0  ...     1.0  0.75  34.384843     1        0       0   \n",
      "..    ...    ...     ...  ...     ...   ...        ...   ...      ...     ...   \n",
      "72    0.0   21.0     3.0  ...     1.0  0.75  39.106174     1        0       0   \n",
      "73    0.0   13.0    12.0  ...     1.0  1.00  27.753301     1        0       0   \n",
      "74    3.0   17.0     3.0  ...     1.0  0.67  49.787445     1        0       0   \n",
      "75    3.0   17.0     3.0  ...     1.0  1.00  51.592193     1        0       0   \n",
      "76    1.0   16.0     8.0  ...     1.0  0.75  36.187559     1        0       0   \n",
      "\n",
      "    Kelloggs  GeneralMills  Ralston  AHFP  \n",
      "0          0             0        0     0  \n",
      "1          0             0        0     0  \n",
      "2          1             0        0     0  \n",
      "3          1             0        0     0  \n",
      "4          0             0        1     0  \n",
      "..       ...           ...      ...   ...  \n",
      "72         0             1        0     0  \n",
      "73         0             1        0     0  \n",
      "74         0             0        1     0  \n",
      "75         0             1        0     0  \n",
      "76         0             1        0     0  \n",
      "\n",
      "[77 rows x 23 columns]\n"
     ]
    }
   ],
   "source": [
    "''' \n",
    "1.- Cargar el archivo a un Data Frame llamado “cereal” y crear un subconjunto de 20 registros\n",
    "completos (independiente llamado “scereal” con los atributos (name, Manuf, Type, Calories,\n",
    "Protein, Sodium, Potass, Vitamins).\n",
    "'''\n",
    "\n",
    "# Import of numpy as np\n",
    "import numpy as np\n",
    "# Import of pandas as pd\n",
    "import pandas as pd\n",
    "\n",
    "# We create our DataFrame called cereal\n",
    "cereal = pd.read_csv('cereals.csv')\n",
    "# Print of the DataFrame cereal\n",
    "print(cereal)"
   ]
  },
  {
   "cell_type": "code",
   "execution_count": 4,
   "id": "f63afa46",
   "metadata": {},
   "outputs": [
    {
     "name": "stdout",
     "output_type": "stream",
     "text": [
      "                          Name Manuf Type  Calories  Protein  Sodium  Potass  \\\n",
      "0                   100%_Bran     N    C         70        4     130   280.0   \n",
      "1           100%_Natural_Bran     Q    C        120        3      15   135.0   \n",
      "2                    All-Bran     K    C         70        4     260   320.0   \n",
      "3   All-Bran_with_Extra_Fiber     K    C         50        4     140   330.0   \n",
      "4              Almond_Delight     R    C        110        2     200     NaN   \n",
      "5     Apple_Cinnamon_Cheerios     G    C        110        2     180    70.0   \n",
      "6                 Apple_Jacks     K    C        110        2     125    30.0   \n",
      "7                     Basic_4     G    C        130        3     210   100.0   \n",
      "8                   Bran_Chex     R    C         90        2     200   125.0   \n",
      "9                 Bran_Flakes     P    C         90        3     210   190.0   \n",
      "10               Cap'n'Crunch     Q    C        120        1     220    35.0   \n",
      "11                   Cheerios     G    C        110        6     290   105.0   \n",
      "12      Cinnamon_Toast_Crunch     G    C        120        1     210    45.0   \n",
      "13                   Clusters     G    C        110        3     140   105.0   \n",
      "14                Cocoa_Puffs     G    C        110        1     180    55.0   \n",
      "15                  Corn_Chex     R    C        110        2     280    25.0   \n",
      "16                Corn_Flakes     K    C        100        2     290    35.0   \n",
      "17                  Corn_Pops     K    C        110        1      90    20.0   \n",
      "18              Count_Chocula     G    C        110        1     180    65.0   \n",
      "19         Cracklin'_Oat_Bran     K    C        110        3     140   160.0   \n",
      "\n",
      "    Vitamins  \n",
      "0         25  \n",
      "1          0  \n",
      "2         25  \n",
      "3         25  \n",
      "4         25  \n",
      "5         25  \n",
      "6         25  \n",
      "7         25  \n",
      "8         25  \n",
      "9         25  \n",
      "10        25  \n",
      "11        25  \n",
      "12        25  \n",
      "13        25  \n",
      "14        25  \n",
      "15        25  \n",
      "16        25  \n",
      "17        25  \n",
      "18        25  \n",
      "19        25  \n"
     ]
    }
   ],
   "source": [
    "# Creation of the subset selecting just the necesary columns\n",
    "scereal = cereal[[\"Name\", \"Manuf\", \"Type\", \"Calories\", \"Protein\", \"Sodium\", \"Potass\", \"Vitamins\"]]\n",
    "# We use the loc function to only get from row 0 to row 19\n",
    "scereal = scereal.loc[0:19]\n",
    "print(scereal)"
   ]
  },
  {
   "cell_type": "code",
   "execution_count": 5,
   "id": "c771028c",
   "metadata": {},
   "outputs": [
    {
     "name": "stdout",
     "output_type": "stream",
     "text": [
      "                          Name Manuf Type  Calories  Protein  Sodium  Potass  \\\n",
      "0                   100%_Bran     N    C         70        4     130   280.0   \n",
      "1           100%_Natural_Bran     Q    C        120        3      15   135.0   \n",
      "2                    All-Bran     K    C         70        4     260   320.0   \n",
      "3   All-Bran_with_Extra_Fiber     K    C         50        4     140   330.0   \n",
      "4              Almond_Delight     R    C        110        2     200     NaN   \n",
      "5     Apple_Cinnamon_Cheerios     G    C        110        2     180    70.0   \n",
      "6                 Apple_Jacks     K    C        110        2     125    30.0   \n",
      "7                     Basic_4     G    C        130        3     210   100.0   \n",
      "8                   Bran_Chex     R    C         90        2     200   125.0   \n",
      "9                 Bran_Flakes     P    C         90        3     210   190.0   \n",
      "10               Cap'n'Crunch     Q    C        120        1     220    35.0   \n",
      "11                   Cheerios     G    C        110        6     290   105.0   \n",
      "12      Cinnamon_Toast_Crunch     G    C        120        1     210    45.0   \n",
      "13                   Clusters     G    C        110        3     140   105.0   \n",
      "14                Cocoa_Puffs     G    C        110        1     180    55.0   \n",
      "15                  Corn_Chex     R    C        110        2     280    25.0   \n",
      "16                Corn_Flakes     K    C        100        2     290    35.0   \n",
      "17                  Corn_Pops     K    C        110        1      90    20.0   \n",
      "18              Count_Chocula     G    C        110        1     180    65.0   \n",
      "19         Cracklin'_Oat_Bran     K    C        110        3     140   160.0   \n",
      "\n",
      "    Vitamins  Calories_Squareroot  Sodium_Squareroot  \n",
      "0         25             8.366600          11.401754  \n",
      "1          0            10.954451           3.872983  \n",
      "2         25             8.366600          16.124515  \n",
      "3         25             7.071068          11.832160  \n",
      "4         25            10.488088          14.142136  \n",
      "5         25            10.488088          13.416408  \n",
      "6         25            10.488088          11.180340  \n",
      "7         25            11.401754          14.491377  \n",
      "8         25             9.486833          14.142136  \n",
      "9         25             9.486833          14.491377  \n",
      "10        25            10.954451          14.832397  \n",
      "11        25            10.488088          17.029386  \n",
      "12        25            10.954451          14.491377  \n",
      "13        25            10.488088          11.832160  \n",
      "14        25            10.488088          13.416408  \n",
      "15        25            10.488088          16.733201  \n",
      "16        25            10.000000          17.029386  \n",
      "17        25            10.488088           9.486833  \n",
      "18        25            10.488088          13.416408  \n",
      "19        25            10.488088          11.832160  \n"
     ]
    }
   ],
   "source": [
    "''' \n",
    "2.- Calcular en “scereal” la raíz cuadrada, media, varianza de los atributos (Calories, Sodium).\n",
    "'''\n",
    "# Here we are creating a column to save the each of the square roots\n",
    "scereal['Calories_Squareroot'] = scereal['Calories']**(1/2)\n",
    "scereal['Sodium_Squareroot'] = scereal['Sodium']**(1/2)\n",
    "\n",
    "print(scereal)"
   ]
  },
  {
   "cell_type": "code",
   "execution_count": 6,
   "id": "77d4fbaa",
   "metadata": {},
   "outputs": [
    {
     "name": "stdout",
     "output_type": "stream",
     "text": [
      "Mean Calories:  103.0\n",
      "Mean Sodium:  184.5\n"
     ]
    }
   ],
   "source": [
    "# Get the mean from calories and sodium\n",
    "meanCalories = scereal['Calories'].mean()\n",
    "meanSodium = scereal['Sodium'].mean()\n",
    "print('Mean Calories: ', meanCalories)\n",
    "print('Mean Sodium: ', meanSodium)"
   ]
  },
  {
   "cell_type": "code",
   "execution_count": 7,
   "id": "70a4b4c2",
   "metadata": {},
   "outputs": [
    {
     "name": "stdout",
     "output_type": "stream",
     "text": [
      "Variance Calories:  390.5263157894737\n",
      "Variance Sodium:  4786.578947368421\n"
     ]
    }
   ],
   "source": [
    "# Get the variance from calories and sodium\n",
    "varianceCalories = scereal['Calories'].var()\n",
    "varianceSodium = scereal['Sodium'].var()\n",
    "print('Variance Calories: ', varianceCalories)\n",
    "print('Variance Sodium: ', varianceSodium)"
   ]
  },
  {
   "cell_type": "code",
   "execution_count": 34,
   "id": "dd254717",
   "metadata": {},
   "outputs": [
    {
     "name": "stdout",
     "output_type": "stream",
     "text": [
      "                          Name Manuf Type  Calories  Protein  Sodium  Potass  \\\n",
      "0                   100%_Bran     N    C         70        4     130   280.0   \n",
      "1           100%_Natural_Bran     Q    C        120        3      15   135.0   \n",
      "2                    All-Bran     K    C         70        4     260   320.0   \n",
      "3   All-Bran_with_Extra_Fiber     K    C         50        4     140   330.0   \n",
      "4              Almond_Delight     R    C        110        2     200     NaN   \n",
      "5     Apple_Cinnamon_Cheerios     G    C        110        2     180    70.0   \n",
      "6                 Apple_Jacks     K    C        110        2     125    30.0   \n",
      "7                     Basic_4     G    C        130        3     210   100.0   \n",
      "8                   Bran_Chex     R    C         90        2     200   125.0   \n",
      "9                 Bran_Flakes     P    C         90        3     210   190.0   \n",
      "10               Cap'n'Crunch     Q    C        120        1     220    35.0   \n",
      "11                   Cheerios     G    C        110        6     290   105.0   \n",
      "12      Cinnamon_Toast_Crunch     G    C        120        1     210    45.0   \n",
      "13                   Clusters     G    C        110        3     140   105.0   \n",
      "14                Cocoa_Puffs     G    C        110        1     180    55.0   \n",
      "15                  Corn_Chex     R    C        110        2     280    25.0   \n",
      "16                Corn_Flakes     K    C        100        2     290    35.0   \n",
      "17                  Corn_Pops     K    C        110        1      90    20.0   \n",
      "18              Count_Chocula     G    C        110        1     180    65.0   \n",
      "19         Cracklin'_Oat_Bran     K    C        110        3     140   160.0   \n",
      "\n",
      "    Vitamins  Calories_Squareroot  Sodium_Squareroot  \n",
      "0         25             8.366600          11.401754  \n",
      "1          0            10.954451           3.872983  \n",
      "2         25             8.366600          16.124515  \n",
      "3         25             7.071068          11.832160  \n",
      "4         25            10.488088          14.142136  \n",
      "5         25            10.488088          13.416408  \n",
      "6         25            10.488088          11.180340  \n",
      "7         25            11.401754          14.491377  \n",
      "8         25             9.486833          14.142136  \n",
      "9         25             9.486833          14.491377  \n",
      "10        25            10.954451          14.832397  \n",
      "11        25            10.488088          17.029386  \n",
      "12        25            10.954451          14.491377  \n",
      "13        25            10.488088          11.832160  \n",
      "14        25            10.488088          13.416408  \n",
      "15        25            10.488088          16.733201  \n",
      "16        25            10.000000          17.029386  \n",
      "17        25            10.488088           9.486833  \n",
      "18        25            10.488088          13.416408  \n",
      "19        25            10.488088          11.832160  \n"
     ]
    }
   ],
   "source": [
    "'''\n",
    "3.- Sustituir los valores “0” por la media del atributo “Sodium” en “cereal”.\n",
    "'''\n",
    "# Here we are replacing the values from the \"Sodium\" that equal a 0 with the mean from sodium\n",
    "scereal['Sodium'] = scereal['Sodium'].replace(0,meanSodium)\n",
    "print(scereal)"
   ]
  },
  {
   "cell_type": "code",
   "execution_count": 9,
   "id": "86bbd45d",
   "metadata": {},
   "outputs": [
    {
     "name": "stdout",
     "output_type": "stream",
     "text": [
      "                       Name Manuf Type  Calories  Protein  Fat  Sodium  Fiber  \\\n",
      "4           Almond_Delight     R    C        110        2    2     200    1.0   \n",
      "20  Cream_of_Wheat_(Quick)     N    H        100        3    0      80    1.0   \n",
      "57          Quaker_Oatmeal     Q    H        100        5    2       0    2.7   \n",
      "\n",
      "    Carbo  Sugars  ...  Weight  Cups     Rating  Cold  Nabisco  Quaker  \\\n",
      "4    14.0     8.0  ...     1.0  0.75  34.384843     1        0       0   \n",
      "20   21.0     0.0  ...     1.0  1.00  64.533816     0        1       0   \n",
      "57    NaN     NaN  ...     1.0  0.67  50.828392     0        0       1   \n",
      "\n",
      "    Kelloggs  GeneralMills  Ralston  AHFP  \n",
      "4          0             0        1     0  \n",
      "20         0             0        0     0  \n",
      "57         0             0        0     0  \n",
      "\n",
      "[3 rows x 23 columns]\n"
     ]
    }
   ],
   "source": [
    "'''\n",
    "4.- Eliminar los valores “NA” (nulos) en “cereal” y asignarlos a una variable llamada “sncereal”.\n",
    "'''\n",
    "# We retrieve all the rows that contain a null value and save them in a new DataFrame\n",
    "sncereal = cereal[cereal.isna().any(axis=1)]\n",
    "# We drop in the DataFrame named cereal the rows that have a null value in cereal\n",
    "cereal = cereal.dropna()\n",
    "print(sncereal)"
   ]
  },
  {
   "cell_type": "code",
   "execution_count": 10,
   "id": "9a44105d",
   "metadata": {},
   "outputs": [
    {
     "name": "stdout",
     "output_type": "stream",
     "text": [
      "Calories\n",
      "110         28\n",
      "100         15\n",
      "120         10\n",
      "90           7\n",
      "50           3\n",
      "140          3\n",
      "70           2\n",
      "130          2\n",
      "150          2\n",
      "80           1\n",
      "160          1\n",
      "dtype: int64\n"
     ]
    }
   ],
   "source": [
    "'''\n",
    "5.- Crear una tabla de frecuencias de los atributos (Calories, Sodium, Potasium) y asignarla a\n",
    "una variable “tfrec”.\n",
    "'''\n",
    "# We create a frequency table from the calories values using the functions value_counts()\n",
    "tfrecCalories = cereal[[\"Calories\"]].value_counts()\n",
    "print(tfrecCalories)"
   ]
  },
  {
   "cell_type": "code",
   "execution_count": 11,
   "id": "6a469895",
   "metadata": {},
   "outputs": [
    {
     "name": "stdout",
     "output_type": "stream",
     "text": [
      "Sodium\n",
      "0         8\n",
      "140       7\n",
      "200       7\n",
      "220       5\n",
      "180       5\n",
      "170       5\n",
      "210       4\n",
      "290       3\n",
      "150       3\n",
      "190       3\n",
      "230       2\n",
      "135       2\n",
      "280       2\n",
      "260       2\n",
      "15        2\n",
      "250       2\n",
      "125       2\n",
      "240       2\n",
      "95        1\n",
      "70        1\n",
      "45        1\n",
      "75        1\n",
      "160       1\n",
      "90        1\n",
      "130       1\n",
      "320       1\n",
      "dtype: int64\n"
     ]
    }
   ],
   "source": [
    "# We create a frequency table from the soidum values using the functions value_counts()\n",
    "tfrecSodium = cereal[[\"Sodium\"]].value_counts()\n",
    "print(tfrecSodium)"
   ]
  },
  {
   "cell_type": "code",
   "execution_count": 12,
   "id": "ea53fca9",
   "metadata": {},
   "outputs": [
    {
     "name": "stdout",
     "output_type": "stream",
     "text": [
      "Potass\n",
      "35.0      5\n",
      "90.0      5\n",
      "95.0      4\n",
      "25.0      4\n",
      "30.0      4\n",
      "40.0      4\n",
      "45.0      4\n",
      "110.0     4\n",
      "55.0      3\n",
      "60.0      3\n",
      "120.0     3\n",
      "100.0     3\n",
      "105.0     2\n",
      "170.0     2\n",
      "190.0     2\n",
      "160.0     2\n",
      "140.0     2\n",
      "230.0     1\n",
      "200.0     1\n",
      "240.0     1\n",
      "280.0     1\n",
      "320.0     1\n",
      "260.0     1\n",
      "15.0      1\n",
      "135.0     1\n",
      "130.0     1\n",
      "125.0     1\n",
      "115.0     1\n",
      "20.0      1\n",
      "85.0      1\n",
      "80.0      1\n",
      "70.0      1\n",
      "65.0      1\n",
      "50.0      1\n",
      "330.0     1\n",
      "dtype: int64\n"
     ]
    }
   ],
   "source": [
    "# We create a frequency table from the potasium values using the functions value_counts()\n",
    "tfrecPotasium = cereal[[\"Potass\"]].value_counts()\n",
    "print(tfrecPotasium)"
   ]
  },
  {
   "cell_type": "code",
   "execution_count": 13,
   "id": "02f19d85",
   "metadata": {},
   "outputs": [
    {
     "data": {
      "text/plain": [
       "Name            Quaker_Oatmeal \n",
       "Manuf                        R \n",
       "Type                         H \n",
       "Calories                    110\n",
       "Protein                       5\n",
       "Fat                           2\n",
       "Sodium                      200\n",
       "Fiber                       2.7\n",
       "Carbo                      21.0\n",
       "Sugars                      8.0\n",
       "Potass                    110.0\n",
       "Vitamins                     25\n",
       "Shelf                         3\n",
       "Weight                      1.0\n",
       "Cups                        1.0\n",
       "Rating                64.533816\n",
       "Cold                          1\n",
       "Nabisco                       1\n",
       "Quaker                        1\n",
       "Kelloggs                      0\n",
       "GeneralMills                  0\n",
       "Ralston                       1\n",
       "AHFP                          0\n",
       "dtype: object"
      ]
     },
     "execution_count": 13,
     "metadata": {},
     "output_type": "execute_result"
    }
   ],
   "source": [
    "'''\n",
    "6.- Encontrar los totales (mínimo, máximo, media, sd, etc) del dataset “sncereal”.\n",
    "'''\n",
    "# We only have to call the method max() to find the maximum value of each attribute, this also works\n",
    "# for non-numeric values althought it is recommended to call certain columns\n",
    "sncereal.max()"
   ]
  },
  {
   "cell_type": "code",
   "execution_count": 14,
   "id": "96fa1e83",
   "metadata": {},
   "outputs": [
    {
     "data": {
      "text/plain": [
       "Name            Almond_Delight \n",
       "Manuf                        N \n",
       "Type                         C \n",
       "Calories                    100\n",
       "Protein                       2\n",
       "Fat                           0\n",
       "Sodium                        0\n",
       "Fiber                       1.0\n",
       "Carbo                      14.0\n",
       "Sugars                      0.0\n",
       "Potass                    110.0\n",
       "Vitamins                      0\n",
       "Shelf                         1\n",
       "Weight                      1.0\n",
       "Cups                       0.67\n",
       "Rating                34.384843\n",
       "Cold                          0\n",
       "Nabisco                       0\n",
       "Quaker                        0\n",
       "Kelloggs                      0\n",
       "GeneralMills                  0\n",
       "Ralston                       0\n",
       "AHFP                          0\n",
       "dtype: object"
      ]
     },
     "execution_count": 14,
     "metadata": {},
     "output_type": "execute_result"
    }
   ],
   "source": [
    "# Here we find the minimum value\n",
    "sncereal.min()"
   ]
  },
  {
   "cell_type": "code",
   "execution_count": 15,
   "id": "a88364c5",
   "metadata": {},
   "outputs": [
    {
     "name": "stderr",
     "output_type": "stream",
     "text": [
      "C:\\Users\\victo_hhsj\\AppData\\Local\\Temp\\ipykernel_11148\\846101978.py:3: FutureWarning: Dropping of nuisance columns in DataFrame reductions (with 'numeric_only=None') is deprecated; in a future version this will raise TypeError.  Select only valid columns before calling the reduction.\n",
      "  sncereal.mean()\n"
     ]
    },
    {
     "data": {
      "text/plain": [
       "Calories        103.333333\n",
       "Protein           3.333333\n",
       "Fat               1.333333\n",
       "Sodium           93.333333\n",
       "Fiber             1.566667\n",
       "Carbo            17.500000\n",
       "Sugars            4.000000\n",
       "Potass          110.000000\n",
       "Vitamins          8.333333\n",
       "Shelf             2.000000\n",
       "Weight            1.000000\n",
       "Cups              0.806667\n",
       "Rating           49.915684\n",
       "Cold              0.333333\n",
       "Nabisco           0.333333\n",
       "Quaker            0.333333\n",
       "Kelloggs          0.000000\n",
       "GeneralMills      0.000000\n",
       "Ralston           0.333333\n",
       "AHFP              0.000000\n",
       "dtype: float64"
      ]
     },
     "execution_count": 15,
     "metadata": {},
     "output_type": "execute_result"
    }
   ],
   "source": [
    "# Here we find the mean value of each column, as told before it is a best practice to call certatin\n",
    "# columns not to get this alerts\n",
    "sncereal.mean()"
   ]
  },
  {
   "cell_type": "code",
   "execution_count": 16,
   "id": "04dbc40e",
   "metadata": {},
   "outputs": [
    {
     "name": "stderr",
     "output_type": "stream",
     "text": [
      "C:\\Users\\victo_hhsj\\AppData\\Local\\Temp\\ipykernel_11148\\1188339827.py:2: FutureWarning: Dropping of nuisance columns in DataFrame reductions (with 'numeric_only=None') is deprecated; in a future version this will raise TypeError.  Select only valid columns before calling the reduction.\n",
      "  sncereal.std()\n"
     ]
    },
    {
     "data": {
      "text/plain": [
       "Calories          5.773503\n",
       "Protein           1.527525\n",
       "Fat               1.154701\n",
       "Sodium          100.664459\n",
       "Fiber             0.981495\n",
       "Carbo             4.949747\n",
       "Sugars            5.656854\n",
       "Potass                 NaN\n",
       "Vitamins         14.433757\n",
       "Shelf             1.000000\n",
       "Weight            0.000000\n",
       "Cups              0.172143\n",
       "Rating           15.095195\n",
       "Cold              0.577350\n",
       "Nabisco           0.577350\n",
       "Quaker            0.577350\n",
       "Kelloggs          0.000000\n",
       "GeneralMills      0.000000\n",
       "Ralston           0.577350\n",
       "AHFP              0.000000\n",
       "dtype: float64"
      ]
     },
     "execution_count": 16,
     "metadata": {},
     "output_type": "execute_result"
    }
   ],
   "source": [
    "# Standard deviations for each column\n",
    "sncereal.std()"
   ]
  },
  {
   "cell_type": "code",
   "execution_count": 17,
   "id": "e5c97fc2",
   "metadata": {},
   "outputs": [
    {
     "data": {
      "text/plain": [
       "([<matplotlib.patches.Wedge at 0x16d72862fd0>,\n",
       "  <matplotlib.patches.Wedge at 0x16d7287a730>],\n",
       " [Text(0.45007108511768434, 1.1124010150754944, 'Sodium'),\n",
       "  Text(-0.4125651613578772, -1.01970093048587, 'Potasium')],\n",
       " [Text(0.26254146631864916, 0.6489005921273717, '37.8%'),\n",
       "  Text(-0.22503554255884206, -0.5562005075377472, '62.2%')])"
      ]
     },
     "execution_count": 17,
     "metadata": {},
     "output_type": "execute_result"
    },
    {
     "data": {
      "image/png": "[encoded data removed]",
      "text/plain": [
       "<Figure size 432x288 with 1 Axes>"
      ]
     },
     "metadata": {},
     "output_type": "display_data"
    }
   ],
   "source": [
    "'''\n",
    "7.- Crear un gráfico de pastel para los atributos (Sodium, Potasium) con el título “Pie de Sodio &\n",
    "Potasio”.\n",
    "'''\n",
    "import matplotlib.pyplot as plt\n",
    "# We create a subset from the cereal dataFrame with only sodium and potasium\n",
    "cerealPlot = cereal[[\"Sodium\", \"Potass\"]]\n",
    "# The use of the .melt() function is to transform a multi-column dataFrame into a single\n",
    "# variable-value dataFrame\n",
    "cerealPlot = cerealPlot.melt(var_name='source')\n",
    "# We then groupby and sumarize our variables\n",
    "cerealPlotSumarized = cerealPlot.groupby('source')['value'].sum()\n",
    "# Labels is defined to be used in the plot\n",
    "labels = 'Sodium', 'Potasium'\n",
    "# Explode is defined to be used in the plot in order to separate the 2 exisiting parts although\n",
    "# I can work for more\n",
    "explode = (0.1, 0)\n",
    "# Definition of the plot and the xlabel that stands for the title\n",
    "plt.xlabel('Pie de Sodio & Potasio', fontsize = 16, color = 'white')\n",
    "plt.pie(cerealPlotSumarized, labels = labels, autopct = '%1.1f%%', explode = explode)"
   ]
  },
  {
   "cell_type": "code",
   "execution_count": 33,
   "id": "264e152a",
   "metadata": {},
   "outputs": [
    {
     "data": {
      "text/plain": [
       "Text(0, 0.5, 'Frecuencia')"
      ]
     },
     "execution_count": 33,
     "metadata": {},
     "output_type": "execute_result"
    },
    {
     "data": {
      "image/png": "[encoded data removed]",
      "text/plain": [
       "<Figure size 432x288 with 1 Axes>"
      ]
     },
     "metadata": {
      "needs_background": "light"
     },
     "output_type": "display_data"
    }
   ],
   "source": [
    "'''\n",
    "8.- Crear un gráfico de histograma del atributo “Manuf” (color rojo, salto de 10 elementos,\n",
    "etiqueta x= “Manufactura”, etiquetay= “Frecuencia”).\n",
    "'''\n",
    "# We need to skip rows like this, otherwise we will be deleting the names of the columns if we delete\n",
    "# the first column\n",
    "skipedCereal = pd.read_csv('cereals.csv', skiprows = [1,2,3,4,5,6,7,8,9,10])\n",
    "# We first extract a subset from the attribute Manuf\n",
    "manufPlot = skipedCereal[\"Manuf\"]\n",
    "# We transform the subset into a frequency table\n",
    "manufPlot = manufPlot.value_counts()\n",
    "# We create a histogram out of the frequency table\n",
    "manufPlot.plot(kind='bar', subplots=True)\n",
    "plt.xlabel('Manufactura')\n",
    "plt.ylabel('Frecuencia')"
   ]
  },
  {
   "cell_type": "code",
   "execution_count": 30,
   "id": "64b8335c",
   "metadata": {},
   "outputs": [
    {
     "data": {
      "image/png": "[encoded data removed]",
      "text/plain": [
       "<Figure size 432x288 with 1 Axes>"
      ]
     },
     "metadata": {
      "needs_background": "light"
     },
     "output_type": "display_data"
    }
   ],
   "source": [
    "'''\n",
    "9.- Detectar mediante el gráfico boxplot si existen “valores anómalos” con los atributos “sodio” y\n",
    "“potasio”.\n",
    "'''\n",
    "# Import seaborn library\n",
    "import seaborn as sns\n",
    "# We are basing our graphic on the manufacturer and the attributes of sodium and potasium\n",
    "sodiumPlot = cereal[[\"Manuf\", \"Sodium\"]]\n",
    "sns.boxplot(x = sodiumPlot['Manuf'], y = sodiumPlot['Sodium'], notch = True)\n",
    "# It displays the boxplot\n",
    "plt.show()"
   ]
  },
  {
   "cell_type": "code",
   "execution_count": 29,
   "id": "540f11e9",
   "metadata": {},
   "outputs": [
    {
     "data": {
      "image/png": "[encoded data removed]",
      "text/plain": [
       "<Figure size 432x288 with 1 Axes>"
      ]
     },
     "metadata": {
      "needs_background": "light"
     },
     "output_type": "display_data"
    }
   ],
   "source": [
    "# We are basing our graphic on the manufacturer and the attributes of sodium and potasium\n",
    "potasiumPlot = cereal[[\"Manuf\", \"Potass\"]]\n",
    "sns.boxplot(x = potasiumPlot['Manuf'], y = potasiumPlot['Potass'], notch = True)\n",
    "# It displays the boxplot\n",
    "plt.show()"
   ]
  },
  {
   "cell_type": "code",
   "execution_count": null,
   "id": "dd26819e",
   "metadata": {},
   "outputs": [],
   "source": []
  },
  {
   "cell_type": "code",
   "execution_count": null,
   "id": "91af7983",
   "metadata": {},
   "outputs": [],
   "source": []
  },
  {
   "cell_type": "code",
   "execution_count": null,
   "id": "498cd72e",
   "metadata": {},
   "outputs": [],
   "source": []
  },
  {
   "cell_type": "code",
   "execution_count": null,
   "id": "b4c7da59",
   "metadata": {},
   "outputs": [],
   "source": []
  },
  {
   "cell_type": "code",
   "execution_count": null,
   "id": "85f8825e",
   "metadata": {},
   "outputs": [],
   "source": []
  },
  {
   "cell_type": "code",
   "execution_count": null,
   "id": "e2514878",
   "metadata": {},
   "outputs": [],
   "source": []
  },
  {
   "cell_type": "code",
   "execution_count": null,
   "id": "2db093b8",
   "metadata": {},
   "outputs": [],
   "source": []
  },
  {
   "cell_type": "code",
   "execution_count": null,
   "id": "b6db1cab",
   "metadata": {},
   "outputs": [],
   "source": []
  },
  {
   "cell_type": "code",
   "execution_count": null,
   "id": "8071a663",
   "metadata": {},
   "outputs": [],
   "source": []
  },
  {
   "cell_type": "code",
   "execution_count": null,
   "id": "c4355217",
   "metadata": {},
   "outputs": [],
   "source": []
  },
  {
   "cell_type": "code",
   "execution_count": null,
   "id": "ef1f4014",
   "metadata": {},
   "outputs": [],
   "source": []
  },
  {
   "cell_type": "code",
   "execution_count": null,
   "id": "b3f376c1",
   "metadata": {},
   "outputs": [],
   "source": []
  },
  {
   "cell_type": "code",
   "execution_count": null,
   "id": "663b7449",
   "metadata": {},
   "outputs": [],
   "source": []
  },
  {
   "cell_type": "code",
   "execution_count": null,
   "id": "8dd6f1aa",
   "metadata": {},
   "outputs": [],
   "source": []
  },
  {
   "cell_type": "code",
   "execution_count": null,
   "id": "225e816a",
   "metadata": {},
   "outputs": [],
   "source": []
  },
  {
   "cell_type": "code",
   "execution_count": null,
   "id": "3e32178d",
   "metadata": {},
   "outputs": [],
   "source": []
  },
  {
   "cell_type": "code",
   "execution_count": null,
   "id": "b3b4f1a5",
   "metadata": {},
   "outputs": [],
   "source": []
  },
  {
   "cell_type": "code",
   "execution_count": null,
   "id": "bac7b67a",
   "metadata": {},
   "outputs": [],
   "source": []
  },
  {
   "cell_type": "code",
   "execution_count": null,
   "id": "6b4b1f90",
   "metadata": {},
   "outputs": [],
   "source": []
  },
  {
   "cell_type": "code",
   "execution_count": null,
   "id": "ceb022f0",
   "metadata": {},
   "outputs": [],
   "source": []
  },
  {
   "cell_type": "code",
   "execution_count": null,
   "id": "7e8a0432",
   "metadata": {},
   "outputs": [],
   "source": []
  },
  {
   "cell_type": "code",
   "execution_count": null,
   "id": "78661cbe",
   "metadata": {},
   "outputs": [],
   "source": []
  },
  {
   "cell_type": "code",
   "execution_count": null,
   "id": "c8549db9",
   "metadata": {},
   "outputs": [],
   "source": []
  },
  {
   "cell_type": "code",
   "execution_count": null,
   "id": "fdd1403a",
   "metadata": {},
   "outputs": [],
   "source": []
  },
  {
   "cell_type": "code",
   "execution_count": null,
   "id": "311cd953",
   "metadata": {},
   "outputs": [],
   "source": []
  },
  {
   "cell_type": "code",
   "execution_count": null,
   "id": "2a163424",
   "metadata": {},
   "outputs": [],
   "source": []
  },
  {
   "cell_type": "code",
   "execution_count": null,
   "id": "36a24be9",
   "metadata": {},
   "outputs": [],
   "source": []
  },
  {
   "cell_type": "code",
   "execution_count": null,
   "id": "8b44d8fc",
   "metadata": {},
   "outputs": [],
   "source": []
  },
  {
   "cell_type": "code",
   "execution_count": null,
   "id": "b32fd4dc",
   "metadata": {},
   "outputs": [],
   "source": []
  },
  {
   "cell_type": "code",
   "execution_count": null,
   "id": "2907923f",
   "metadata": {},
   "outputs": [],
   "source": []
  },
  {
   "cell_type": "code",
   "execution_count": null,
   "id": "29987bdb",
   "metadata": {},
   "outputs": [],
   "source": []
  },
  {
   "cell_type": "code",
   "execution_count": null,
   "id": "432a7311",
   "metadata": {},
   "outputs": [],
   "source": []
  },
  {
   "cell_type": "code",
   "execution_count": null,
   "id": "e7bd3470",
   "metadata": {},
   "outputs": [],
   "source": []
  },
  {
   "cell_type": "code",
   "execution_count": null,
   "id": "797aa385",
   "metadata": {},
   "outputs": [],
   "source": []
  },
  {
   "cell_type": "code",
   "execution_count": null,
   "id": "e72dd36f",
   "metadata": {},
   "outputs": [],
   "source": []
  },
  {
   "cell_type": "code",
   "execution_count": null,
   "id": "bf19f409",
   "metadata": {},
   "outputs": [],
   "source": []
  },
  {
   "cell_type": "code",
   "execution_count": null,
   "id": "ae2b0af5",
   "metadata": {},
   "outputs": [],
   "source": []
  }
 ],
 "metadata": {
  "kernelspec": {
   "display_name": "Python 3 (ipykernel)",
   "language": "python",
   "name": "python3"
  },
  "language_info": {
   "codemirror_mode": {
    "name": "ipython",
    "version": 3
   },
   "file_extension": ".py",
   "mimetype": "text/x-python",
   "name": "python",
   "nbconvert_exporter": "python",
   "pygments_lexer": "ipython3",
   "version": "3.9.12"
  }
 },
 "nbformat": 4,
 "nbformat_minor": 5
}
