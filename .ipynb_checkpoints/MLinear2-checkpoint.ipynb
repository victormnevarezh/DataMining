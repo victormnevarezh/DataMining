{
 "cells": [
  {
   "cell_type": "code",
   "execution_count": 1,
   "metadata": {
    "id": "cjaSlNyhz5FQ"
   },
   "outputs": [],
   "source": [
    "import numpy as np\n",
    "import matplotlib.pyplot as plt \n",
    "import pandas as pd  \n",
    "import seaborn as sns \n",
    "%matplotlib inline"
   ]
  },
  {
   "cell_type": "code",
   "execution_count": 2,
   "metadata": {
    "id": "_N9Vr65Wz5Fj"
   },
   "outputs": [],
   "source": [
    "# Cargar Datos de Librería\n",
    "\n",
    "from sklearn.datasets import load_boston\n",
    "\n",
    "boston_dataset = load_boston()\n",
    "\n",
    "boston =pd.DataFrame(boston_dataset.data,columns=boston_dataset.feature_names)"
   ]
  },
  {
   "cell_type": "code",
   "execution_count": 3,
   "metadata": {
    "colab": {
     "base_uri": "https://localhost:8080/",
     "height": 206
    },
    "id": "UylNzaaXz5Fx",
    "outputId": "d37310cd-ebb8-478a-a033-9063b45b1455"
   },
   "outputs": [
    {
     "data": {
      "text/html": [
       "<div>\n",
       "<style scoped>\n",
       "    .dataframe tbody tr th:only-of-type {\n",
       "        vertical-align: middle;\n",
       "    }\n",
       "\n",
       "    .dataframe tbody tr th {\n",
       "        vertical-align: top;\n",
       "    }\n",
       "\n",
       "    .dataframe thead th {\n",
       "        text-align: right;\n",
       "    }\n",
       "</style>\n",
       "<table border=\"1\" class=\"dataframe\">\n",
       "  <thead>\n",
       "    <tr style=\"text-align: right;\">\n",
       "      <th></th>\n",
       "      <th>CRIM</th>\n",
       "      <th>ZN</th>\n",
       "      <th>INDUS</th>\n",
       "      <th>CHAS</th>\n",
       "      <th>NOX</th>\n",
       "      <th>RM</th>\n",
       "      <th>AGE</th>\n",
       "      <th>DIS</th>\n",
       "      <th>RAD</th>\n",
       "      <th>TAX</th>\n",
       "      <th>PTRATIO</th>\n",
       "      <th>B</th>\n",
       "      <th>LSTAT</th>\n",
       "    </tr>\n",
       "  </thead>\n",
       "  <tbody>\n",
       "    <tr>\n",
       "      <th>0</th>\n",
       "      <td>0.00632</td>\n",
       "      <td>18.0</td>\n",
       "      <td>2.31</td>\n",
       "      <td>0.0</td>\n",
       "      <td>0.538</td>\n",
       "      <td>6.575</td>\n",
       "      <td>65.2</td>\n",
       "      <td>4.0900</td>\n",
       "      <td>1.0</td>\n",
       "      <td>296.0</td>\n",
       "      <td>15.3</td>\n",
       "      <td>396.90</td>\n",
       "      <td>4.98</td>\n",
       "    </tr>\n",
       "    <tr>\n",
       "      <th>1</th>\n",
       "      <td>0.02731</td>\n",
       "      <td>0.0</td>\n",
       "      <td>7.07</td>\n",
       "      <td>0.0</td>\n",
       "      <td>0.469</td>\n",
       "      <td>6.421</td>\n",
       "      <td>78.9</td>\n",
       "      <td>4.9671</td>\n",
       "      <td>2.0</td>\n",
       "      <td>242.0</td>\n",
       "      <td>17.8</td>\n",
       "      <td>396.90</td>\n",
       "      <td>9.14</td>\n",
       "    </tr>\n",
       "    <tr>\n",
       "      <th>2</th>\n",
       "      <td>0.02729</td>\n",
       "      <td>0.0</td>\n",
       "      <td>7.07</td>\n",
       "      <td>0.0</td>\n",
       "      <td>0.469</td>\n",
       "      <td>7.185</td>\n",
       "      <td>61.1</td>\n",
       "      <td>4.9671</td>\n",
       "      <td>2.0</td>\n",
       "      <td>242.0</td>\n",
       "      <td>17.8</td>\n",
       "      <td>392.83</td>\n",
       "      <td>4.03</td>\n",
       "    </tr>\n",
       "    <tr>\n",
       "      <th>3</th>\n",
       "      <td>0.03237</td>\n",
       "      <td>0.0</td>\n",
       "      <td>2.18</td>\n",
       "      <td>0.0</td>\n",
       "      <td>0.458</td>\n",
       "      <td>6.998</td>\n",
       "      <td>45.8</td>\n",
       "      <td>6.0622</td>\n",
       "      <td>3.0</td>\n",
       "      <td>222.0</td>\n",
       "      <td>18.7</td>\n",
       "      <td>394.63</td>\n",
       "      <td>2.94</td>\n",
       "    </tr>\n",
       "    <tr>\n",
       "      <th>4</th>\n",
       "      <td>0.06905</td>\n",
       "      <td>0.0</td>\n",
       "      <td>2.18</td>\n",
       "      <td>0.0</td>\n",
       "      <td>0.458</td>\n",
       "      <td>7.147</td>\n",
       "      <td>54.2</td>\n",
       "      <td>6.0622</td>\n",
       "      <td>3.0</td>\n",
       "      <td>222.0</td>\n",
       "      <td>18.7</td>\n",
       "      <td>396.90</td>\n",
       "      <td>5.33</td>\n",
       "    </tr>\n",
       "    <tr>\n",
       "      <th>...</th>\n",
       "      <td>...</td>\n",
       "      <td>...</td>\n",
       "      <td>...</td>\n",
       "      <td>...</td>\n",
       "      <td>...</td>\n",
       "      <td>...</td>\n",
       "      <td>...</td>\n",
       "      <td>...</td>\n",
       "      <td>...</td>\n",
       "      <td>...</td>\n",
       "      <td>...</td>\n",
       "      <td>...</td>\n",
       "      <td>...</td>\n",
       "    </tr>\n",
       "    <tr>\n",
       "      <th>95</th>\n",
       "      <td>0.12204</td>\n",
       "      <td>0.0</td>\n",
       "      <td>2.89</td>\n",
       "      <td>0.0</td>\n",
       "      <td>0.445</td>\n",
       "      <td>6.625</td>\n",
       "      <td>57.8</td>\n",
       "      <td>3.4952</td>\n",
       "      <td>2.0</td>\n",
       "      <td>276.0</td>\n",
       "      <td>18.0</td>\n",
       "      <td>357.98</td>\n",
       "      <td>6.65</td>\n",
       "    </tr>\n",
       "    <tr>\n",
       "      <th>96</th>\n",
       "      <td>0.11504</td>\n",
       "      <td>0.0</td>\n",
       "      <td>2.89</td>\n",
       "      <td>0.0</td>\n",
       "      <td>0.445</td>\n",
       "      <td>6.163</td>\n",
       "      <td>69.6</td>\n",
       "      <td>3.4952</td>\n",
       "      <td>2.0</td>\n",
       "      <td>276.0</td>\n",
       "      <td>18.0</td>\n",
       "      <td>391.83</td>\n",
       "      <td>11.34</td>\n",
       "    </tr>\n",
       "    <tr>\n",
       "      <th>97</th>\n",
       "      <td>0.12083</td>\n",
       "      <td>0.0</td>\n",
       "      <td>2.89</td>\n",
       "      <td>0.0</td>\n",
       "      <td>0.445</td>\n",
       "      <td>8.069</td>\n",
       "      <td>76.0</td>\n",
       "      <td>3.4952</td>\n",
       "      <td>2.0</td>\n",
       "      <td>276.0</td>\n",
       "      <td>18.0</td>\n",
       "      <td>396.90</td>\n",
       "      <td>4.21</td>\n",
       "    </tr>\n",
       "    <tr>\n",
       "      <th>98</th>\n",
       "      <td>0.08187</td>\n",
       "      <td>0.0</td>\n",
       "      <td>2.89</td>\n",
       "      <td>0.0</td>\n",
       "      <td>0.445</td>\n",
       "      <td>7.820</td>\n",
       "      <td>36.9</td>\n",
       "      <td>3.4952</td>\n",
       "      <td>2.0</td>\n",
       "      <td>276.0</td>\n",
       "      <td>18.0</td>\n",
       "      <td>393.53</td>\n",
       "      <td>3.57</td>\n",
       "    </tr>\n",
       "    <tr>\n",
       "      <th>99</th>\n",
       "      <td>0.06860</td>\n",
       "      <td>0.0</td>\n",
       "      <td>2.89</td>\n",
       "      <td>0.0</td>\n",
       "      <td>0.445</td>\n",
       "      <td>7.416</td>\n",
       "      <td>62.5</td>\n",
       "      <td>3.4952</td>\n",
       "      <td>2.0</td>\n",
       "      <td>276.0</td>\n",
       "      <td>18.0</td>\n",
       "      <td>396.90</td>\n",
       "      <td>6.19</td>\n",
       "    </tr>\n",
       "  </tbody>\n",
       "</table>\n",
       "<p>100 rows × 13 columns</p>\n",
       "</div>"
      ],
      "text/plain": [
       "       CRIM    ZN  INDUS  CHAS    NOX     RM   AGE     DIS  RAD    TAX  \\\n",
       "0   0.00632  18.0   2.31   0.0  0.538  6.575  65.2  4.0900  1.0  296.0   \n",
       "1   0.02731   0.0   7.07   0.0  0.469  6.421  78.9  4.9671  2.0  242.0   \n",
       "2   0.02729   0.0   7.07   0.0  0.469  7.185  61.1  4.9671  2.0  242.0   \n",
       "3   0.03237   0.0   2.18   0.0  0.458  6.998  45.8  6.0622  3.0  222.0   \n",
       "4   0.06905   0.0   2.18   0.0  0.458  7.147  54.2  6.0622  3.0  222.0   \n",
       "..      ...   ...    ...   ...    ...    ...   ...     ...  ...    ...   \n",
       "95  0.12204   0.0   2.89   0.0  0.445  6.625  57.8  3.4952  2.0  276.0   \n",
       "96  0.11504   0.0   2.89   0.0  0.445  6.163  69.6  3.4952  2.0  276.0   \n",
       "97  0.12083   0.0   2.89   0.0  0.445  8.069  76.0  3.4952  2.0  276.0   \n",
       "98  0.08187   0.0   2.89   0.0  0.445  7.820  36.9  3.4952  2.0  276.0   \n",
       "99  0.06860   0.0   2.89   0.0  0.445  7.416  62.5  3.4952  2.0  276.0   \n",
       "\n",
       "    PTRATIO       B  LSTAT  \n",
       "0      15.3  396.90   4.98  \n",
       "1      17.8  396.90   9.14  \n",
       "2      17.8  392.83   4.03  \n",
       "3      18.7  394.63   2.94  \n",
       "4      18.7  396.90   5.33  \n",
       "..      ...     ...    ...  \n",
       "95     18.0  357.98   6.65  \n",
       "96     18.0  391.83  11.34  \n",
       "97     18.0  396.90   4.21  \n",
       "98     18.0  393.53   3.57  \n",
       "99     18.0  396.90   6.19  \n",
       "\n",
       "[100 rows x 13 columns]"
      ]
     },
     "execution_count": 3,
     "metadata": {},
     "output_type": "execute_result"
    }
   ],
   "source": [
    "boston.head(100)"
   ]
  },
  {
   "cell_type": "code",
   "execution_count": 4,
   "metadata": {
    "id": "E9rK9UbLz5F8"
   },
   "outputs": [],
   "source": [
    "#Definir campo objetivo\n",
    "\n",
    "boston['MEDV'] = boston_dataset.target"
   ]
  },
  {
   "cell_type": "code",
   "execution_count": 5,
   "metadata": {},
   "outputs": [
    {
     "data": {
      "text/plain": [
       "0      24.0\n",
       "1      21.6\n",
       "2      34.7\n",
       "3      33.4\n",
       "4      36.2\n",
       "       ... \n",
       "501    22.4\n",
       "502    20.6\n",
       "503    23.9\n",
       "504    22.0\n",
       "505    11.9\n",
       "Name: MEDV, Length: 506, dtype: float64"
      ]
     },
     "execution_count": 5,
     "metadata": {},
     "output_type": "execute_result"
    }
   ],
   "source": [
    "boston['MEDV']"
   ]
  },
  {
   "cell_type": "code",
   "execution_count": 6,
   "metadata": {
    "colab": {
     "base_uri": "https://localhost:8080/"
    },
    "id": "TghdpnBRz5GF",
    "outputId": "7de1add9-a7e7-4b2e-c767-f299d12d73f3"
   },
   "outputs": [
    {
     "data": {
      "text/plain": [
       "CRIM       0\n",
       "ZN         0\n",
       "INDUS      0\n",
       "CHAS       0\n",
       "NOX        0\n",
       "RM         0\n",
       "AGE        0\n",
       "DIS        0\n",
       "RAD        0\n",
       "TAX        0\n",
       "PTRATIO    0\n",
       "B          0\n",
       "LSTAT      0\n",
       "MEDV       0\n",
       "dtype: int64"
      ]
     },
     "execution_count": 6,
     "metadata": {},
     "output_type": "execute_result"
    }
   ],
   "source": [
    "# Revisar si hay valores nulos\n",
    "\n",
    "boston.isnull().sum()"
   ]
  },
  {
   "cell_type": "code",
   "execution_count": 7,
   "metadata": {
    "colab": {
     "base_uri": "https://localhost:8080/",
     "height": 584
    },
    "id": "Dv-3DRcZz5GS",
    "outputId": "52c47cf8-a4d3-42d9-b15d-7ecfdbbec1c8"
   },
   "outputs": [
    {
     "name": "stderr",
     "output_type": "stream",
     "text": [
      "/home/rru/anaconda3/lib/python3.8/site-packages/seaborn/distributions.py:2551: FutureWarning: `distplot` is a deprecated function and will be removed in a future version. Please adapt your code to use either `displot` (a figure-level function with similar flexibility) or `histplot` (an axes-level function for histograms).\n",
      "  warnings.warn(msg, FutureWarning)\n"
     ]
    },
    {
     "data": {
      "image/png": "[encoded data removed]",
      "text/plain": [
       "<Figure size 864x612 with 1 Axes>"
      ]
     },
     "metadata": {},
     "output_type": "display_data"
    }
   ],
   "source": [
    "\n",
    "#Revisar normalidad del campo objetivo\n",
    "\n",
    "sns.set(rc={'figure.figsize':(12,8.5)})\n",
    "sns.distplot(boston['MEDV'], bins=30)\n",
    "plt.show()"
   ]
  },
  {
   "cell_type": "code",
   "execution_count": 10,
   "metadata": {
    "id": "8Ychgwsoz5Gd",
    "outputId": "6811fa7a-aeed-45fa-a345-28aa8f91f329"
   },
   "outputs": [
    {
     "data": {
      "text/html": [
       "<div>\n",
       "<style scoped>\n",
       "    .dataframe tbody tr th:only-of-type {\n",
       "        vertical-align: middle;\n",
       "    }\n",
       "\n",
       "    .dataframe tbody tr th {\n",
       "        vertical-align: top;\n",
       "    }\n",
       "\n",
       "    .dataframe thead th {\n",
       "        text-align: right;\n",
       "    }\n",
       "</style>\n",
       "<table border=\"1\" class=\"dataframe\">\n",
       "  <thead>\n",
       "    <tr style=\"text-align: right;\">\n",
       "      <th></th>\n",
       "      <th>CRIM</th>\n",
       "      <th>ZN</th>\n",
       "      <th>INDUS</th>\n",
       "      <th>CHAS</th>\n",
       "      <th>NOX</th>\n",
       "      <th>RM</th>\n",
       "      <th>AGE</th>\n",
       "      <th>DIS</th>\n",
       "      <th>RAD</th>\n",
       "      <th>TAX</th>\n",
       "      <th>PTRATIO</th>\n",
       "      <th>B</th>\n",
       "      <th>LSTAT</th>\n",
       "      <th>MEDV</th>\n",
       "    </tr>\n",
       "  </thead>\n",
       "  <tbody>\n",
       "    <tr>\n",
       "      <th>CRIM</th>\n",
       "      <td>1.00</td>\n",
       "      <td>-0.20</td>\n",
       "      <td>0.41</td>\n",
       "      <td>-0.06</td>\n",
       "      <td>0.42</td>\n",
       "      <td>-0.22</td>\n",
       "      <td>0.35</td>\n",
       "      <td>-0.38</td>\n",
       "      <td>0.63</td>\n",
       "      <td>0.58</td>\n",
       "      <td>0.29</td>\n",
       "      <td>-0.39</td>\n",
       "      <td>0.46</td>\n",
       "      <td>-0.39</td>\n",
       "    </tr>\n",
       "    <tr>\n",
       "      <th>ZN</th>\n",
       "      <td>-0.20</td>\n",
       "      <td>1.00</td>\n",
       "      <td>-0.53</td>\n",
       "      <td>-0.04</td>\n",
       "      <td>-0.52</td>\n",
       "      <td>0.31</td>\n",
       "      <td>-0.57</td>\n",
       "      <td>0.66</td>\n",
       "      <td>-0.31</td>\n",
       "      <td>-0.31</td>\n",
       "      <td>-0.39</td>\n",
       "      <td>0.18</td>\n",
       "      <td>-0.41</td>\n",
       "      <td>0.36</td>\n",
       "    </tr>\n",
       "    <tr>\n",
       "      <th>INDUS</th>\n",
       "      <td>0.41</td>\n",
       "      <td>-0.53</td>\n",
       "      <td>1.00</td>\n",
       "      <td>0.06</td>\n",
       "      <td>0.76</td>\n",
       "      <td>-0.39</td>\n",
       "      <td>0.64</td>\n",
       "      <td>-0.71</td>\n",
       "      <td>0.60</td>\n",
       "      <td>0.72</td>\n",
       "      <td>0.38</td>\n",
       "      <td>-0.36</td>\n",
       "      <td>0.60</td>\n",
       "      <td>-0.48</td>\n",
       "    </tr>\n",
       "    <tr>\n",
       "      <th>CHAS</th>\n",
       "      <td>-0.06</td>\n",
       "      <td>-0.04</td>\n",
       "      <td>0.06</td>\n",
       "      <td>1.00</td>\n",
       "      <td>0.09</td>\n",
       "      <td>0.09</td>\n",
       "      <td>0.09</td>\n",
       "      <td>-0.10</td>\n",
       "      <td>-0.01</td>\n",
       "      <td>-0.04</td>\n",
       "      <td>-0.12</td>\n",
       "      <td>0.05</td>\n",
       "      <td>-0.05</td>\n",
       "      <td>0.18</td>\n",
       "    </tr>\n",
       "    <tr>\n",
       "      <th>NOX</th>\n",
       "      <td>0.42</td>\n",
       "      <td>-0.52</td>\n",
       "      <td>0.76</td>\n",
       "      <td>0.09</td>\n",
       "      <td>1.00</td>\n",
       "      <td>-0.30</td>\n",
       "      <td>0.73</td>\n",
       "      <td>-0.77</td>\n",
       "      <td>0.61</td>\n",
       "      <td>0.67</td>\n",
       "      <td>0.19</td>\n",
       "      <td>-0.38</td>\n",
       "      <td>0.59</td>\n",
       "      <td>-0.43</td>\n",
       "    </tr>\n",
       "    <tr>\n",
       "      <th>RM</th>\n",
       "      <td>-0.22</td>\n",
       "      <td>0.31</td>\n",
       "      <td>-0.39</td>\n",
       "      <td>0.09</td>\n",
       "      <td>-0.30</td>\n",
       "      <td>1.00</td>\n",
       "      <td>-0.24</td>\n",
       "      <td>0.21</td>\n",
       "      <td>-0.21</td>\n",
       "      <td>-0.29</td>\n",
       "      <td>-0.36</td>\n",
       "      <td>0.13</td>\n",
       "      <td>-0.61</td>\n",
       "      <td>0.70</td>\n",
       "    </tr>\n",
       "    <tr>\n",
       "      <th>AGE</th>\n",
       "      <td>0.35</td>\n",
       "      <td>-0.57</td>\n",
       "      <td>0.64</td>\n",
       "      <td>0.09</td>\n",
       "      <td>0.73</td>\n",
       "      <td>-0.24</td>\n",
       "      <td>1.00</td>\n",
       "      <td>-0.75</td>\n",
       "      <td>0.46</td>\n",
       "      <td>0.51</td>\n",
       "      <td>0.26</td>\n",
       "      <td>-0.27</td>\n",
       "      <td>0.60</td>\n",
       "      <td>-0.38</td>\n",
       "    </tr>\n",
       "    <tr>\n",
       "      <th>DIS</th>\n",
       "      <td>-0.38</td>\n",
       "      <td>0.66</td>\n",
       "      <td>-0.71</td>\n",
       "      <td>-0.10</td>\n",
       "      <td>-0.77</td>\n",
       "      <td>0.21</td>\n",
       "      <td>-0.75</td>\n",
       "      <td>1.00</td>\n",
       "      <td>-0.49</td>\n",
       "      <td>-0.53</td>\n",
       "      <td>-0.23</td>\n",
       "      <td>0.29</td>\n",
       "      <td>-0.50</td>\n",
       "      <td>0.25</td>\n",
       "    </tr>\n",
       "    <tr>\n",
       "      <th>RAD</th>\n",
       "      <td>0.63</td>\n",
       "      <td>-0.31</td>\n",
       "      <td>0.60</td>\n",
       "      <td>-0.01</td>\n",
       "      <td>0.61</td>\n",
       "      <td>-0.21</td>\n",
       "      <td>0.46</td>\n",
       "      <td>-0.49</td>\n",
       "      <td>1.00</td>\n",
       "      <td>0.91</td>\n",
       "      <td>0.46</td>\n",
       "      <td>-0.44</td>\n",
       "      <td>0.49</td>\n",
       "      <td>-0.38</td>\n",
       "    </tr>\n",
       "    <tr>\n",
       "      <th>TAX</th>\n",
       "      <td>0.58</td>\n",
       "      <td>-0.31</td>\n",
       "      <td>0.72</td>\n",
       "      <td>-0.04</td>\n",
       "      <td>0.67</td>\n",
       "      <td>-0.29</td>\n",
       "      <td>0.51</td>\n",
       "      <td>-0.53</td>\n",
       "      <td>0.91</td>\n",
       "      <td>1.00</td>\n",
       "      <td>0.46</td>\n",
       "      <td>-0.44</td>\n",
       "      <td>0.54</td>\n",
       "      <td>-0.47</td>\n",
       "    </tr>\n",
       "    <tr>\n",
       "      <th>PTRATIO</th>\n",
       "      <td>0.29</td>\n",
       "      <td>-0.39</td>\n",
       "      <td>0.38</td>\n",
       "      <td>-0.12</td>\n",
       "      <td>0.19</td>\n",
       "      <td>-0.36</td>\n",
       "      <td>0.26</td>\n",
       "      <td>-0.23</td>\n",
       "      <td>0.46</td>\n",
       "      <td>0.46</td>\n",
       "      <td>1.00</td>\n",
       "      <td>-0.18</td>\n",
       "      <td>0.37</td>\n",
       "      <td>-0.51</td>\n",
       "    </tr>\n",
       "    <tr>\n",
       "      <th>B</th>\n",
       "      <td>-0.39</td>\n",
       "      <td>0.18</td>\n",
       "      <td>-0.36</td>\n",
       "      <td>0.05</td>\n",
       "      <td>-0.38</td>\n",
       "      <td>0.13</td>\n",
       "      <td>-0.27</td>\n",
       "      <td>0.29</td>\n",
       "      <td>-0.44</td>\n",
       "      <td>-0.44</td>\n",
       "      <td>-0.18</td>\n",
       "      <td>1.00</td>\n",
       "      <td>-0.37</td>\n",
       "      <td>0.33</td>\n",
       "    </tr>\n",
       "    <tr>\n",
       "      <th>LSTAT</th>\n",
       "      <td>0.46</td>\n",
       "      <td>-0.41</td>\n",
       "      <td>0.60</td>\n",
       "      <td>-0.05</td>\n",
       "      <td>0.59</td>\n",
       "      <td>-0.61</td>\n",
       "      <td>0.60</td>\n",
       "      <td>-0.50</td>\n",
       "      <td>0.49</td>\n",
       "      <td>0.54</td>\n",
       "      <td>0.37</td>\n",
       "      <td>-0.37</td>\n",
       "      <td>1.00</td>\n",
       "      <td>-0.74</td>\n",
       "    </tr>\n",
       "    <tr>\n",
       "      <th>MEDV</th>\n",
       "      <td>-0.39</td>\n",
       "      <td>0.36</td>\n",
       "      <td>-0.48</td>\n",
       "      <td>0.18</td>\n",
       "      <td>-0.43</td>\n",
       "      <td>0.70</td>\n",
       "      <td>-0.38</td>\n",
       "      <td>0.25</td>\n",
       "      <td>-0.38</td>\n",
       "      <td>-0.47</td>\n",
       "      <td>-0.51</td>\n",
       "      <td>0.33</td>\n",
       "      <td>-0.74</td>\n",
       "      <td>1.00</td>\n",
       "    </tr>\n",
       "  </tbody>\n",
       "</table>\n",
       "</div>"
      ],
      "text/plain": [
       "         CRIM    ZN  INDUS  CHAS   NOX    RM   AGE   DIS   RAD   TAX  PTRATIO  \\\n",
       "CRIM     1.00 -0.20   0.41 -0.06  0.42 -0.22  0.35 -0.38  0.63  0.58     0.29   \n",
       "ZN      -0.20  1.00  -0.53 -0.04 -0.52  0.31 -0.57  0.66 -0.31 -0.31    -0.39   \n",
       "INDUS    0.41 -0.53   1.00  0.06  0.76 -0.39  0.64 -0.71  0.60  0.72     0.38   \n",
       "CHAS    -0.06 -0.04   0.06  1.00  0.09  0.09  0.09 -0.10 -0.01 -0.04    -0.12   \n",
       "NOX      0.42 -0.52   0.76  0.09  1.00 -0.30  0.73 -0.77  0.61  0.67     0.19   \n",
       "RM      -0.22  0.31  -0.39  0.09 -0.30  1.00 -0.24  0.21 -0.21 -0.29    -0.36   \n",
       "AGE      0.35 -0.57   0.64  0.09  0.73 -0.24  1.00 -0.75  0.46  0.51     0.26   \n",
       "DIS     -0.38  0.66  -0.71 -0.10 -0.77  0.21 -0.75  1.00 -0.49 -0.53    -0.23   \n",
       "RAD      0.63 -0.31   0.60 -0.01  0.61 -0.21  0.46 -0.49  1.00  0.91     0.46   \n",
       "TAX      0.58 -0.31   0.72 -0.04  0.67 -0.29  0.51 -0.53  0.91  1.00     0.46   \n",
       "PTRATIO  0.29 -0.39   0.38 -0.12  0.19 -0.36  0.26 -0.23  0.46  0.46     1.00   \n",
       "B       -0.39  0.18  -0.36  0.05 -0.38  0.13 -0.27  0.29 -0.44 -0.44    -0.18   \n",
       "LSTAT    0.46 -0.41   0.60 -0.05  0.59 -0.61  0.60 -0.50  0.49  0.54     0.37   \n",
       "MEDV    -0.39  0.36  -0.48  0.18 -0.43  0.70 -0.38  0.25 -0.38 -0.47    -0.51   \n",
       "\n",
       "            B  LSTAT  MEDV  \n",
       "CRIM    -0.39   0.46 -0.39  \n",
       "ZN       0.18  -0.41  0.36  \n",
       "INDUS   -0.36   0.60 -0.48  \n",
       "CHAS     0.05  -0.05  0.18  \n",
       "NOX     -0.38   0.59 -0.43  \n",
       "RM       0.13  -0.61  0.70  \n",
       "AGE     -0.27   0.60 -0.38  \n",
       "DIS      0.29  -0.50  0.25  \n",
       "RAD     -0.44   0.49 -0.38  \n",
       "TAX     -0.44   0.54 -0.47  \n",
       "PTRATIO -0.18   0.37 -0.51  \n",
       "B        1.00  -0.37  0.33  \n",
       "LSTAT   -0.37   1.00 -0.74  \n",
       "MEDV     0.33  -0.74  1.00  "
      ]
     },
     "execution_count": 10,
     "metadata": {},
     "output_type": "execute_result"
    }
   ],
   "source": [
    "#Verificar si no existen variables fuertemente correlacionadas (se deben descartar >=(+-0.9)\n",
    "\n",
    "correlation_matrix = boston.corr().round(2)\n",
    "\n",
    "correlation_matrix\n"
   ]
  },
  {
   "cell_type": "code",
   "execution_count": null,
   "metadata": {
    "id": "cBbKZVL_z5Gl",
    "outputId": "ad96aa41-1c6e-4403-a890-9e681831ede4",
    "scrolled": true
   },
   "outputs": [
    {
     "data": {
      "text/plain": [
       "<matplotlib.axes._subplots.AxesSubplot at 0x1ed911175f8>"
      ]
     },
     "execution_count": 26,
     "metadata": {
      "tags": []
     },
     "output_type": "execute_result"
    },
    {
     "data": {
      "image/png": "[encoded data removed]",
      "text/plain": [
       "<Figure size 864x612 with 2 Axes>"
      ]
     },
     "metadata": {
      "tags": []
     },
     "output_type": "display_data"
    }
   ],
   "source": [
    "# Correlación gráfica\n",
    "\n",
    "sns.set(rc={'figure.figsize':(12,8.5)})\n",
    "sns.heatmap(data=correlation_matrix, annot=True)"
   ]
  },
  {
   "cell_type": "code",
   "execution_count": 11,
   "metadata": {
    "id": "X0Do8in9z5Gt",
    "outputId": "04e9e52b-fa2e-4c36-e815-ceac164e284a"
   },
   "outputs": [
    {
     "data": {
      "image/png": "[encoded data removed]",
      "text/plain": [
       "<Figure size 1440x360 with 2 Axes>"
      ]
     },
     "metadata": {},
     "output_type": "display_data"
    }
   ],
   "source": [
    "# RAD, TAX = 0.91, por lo cual deben ser eliminadas como variables predictoras (entrada)\n",
    "\n",
    "plt.figure(figsize=(20, 5))\n",
    "\n",
    "features = ['LSTAT', 'RM']\n",
    "target = boston['MEDV']\n",
    "\n",
    "for i, col in enumerate(features):\n",
    "    plt.subplot(1, len(features) , i+1)\n",
    "    x = boston[col]\n",
    "    y = target\n",
    "    plt.scatter(x, y, marker='o')\n",
    "    plt.title(col)\n",
    "    plt.xlabel(col)\n",
    "    plt.ylabel('MEDV')"
   ]
  },
  {
   "cell_type": "code",
   "execution_count": 12,
   "metadata": {
    "id": "o4ci7Hi4z5G1"
   },
   "outputs": [],
   "source": [
    "X = pd.DataFrame(np.c_[boston['LSTAT'], boston['RM']], columns = ['LSTAT','RM'])\n",
    "Y = boston['MEDV']"
   ]
  },
  {
   "cell_type": "code",
   "execution_count": 13,
   "metadata": {
    "id": "7dnQKtN0z5G9",
    "outputId": "c5e6da92-64a4-45c0-a141-7f4bbce4a748"
   },
   "outputs": [
    {
     "name": "stdout",
     "output_type": "stream",
     "text": [
      "(404, 2)\n",
      "(102, 2)\n",
      "(404,)\n",
      "(102,)\n"
     ]
    }
   ],
   "source": [
    "from sklearn.model_selection import train_test_split\n",
    "\n",
    "X_train, X_test, Y_train, Y_test = train_test_split(X, Y, test_size = 0.2, random_state=5)\n",
    "print(X_train.shape)\n",
    "print(X_test.shape)\n",
    "print(Y_train.shape)\n",
    "print(Y_test.shape)"
   ]
  },
  {
   "cell_type": "code",
   "execution_count": 14,
   "metadata": {
    "id": "o8ESp-Xvz5HH",
    "outputId": "75aba236-826a-4474-d0df-3d25a890c958",
    "scrolled": true
   },
   "outputs": [
    {
     "data": {
      "text/plain": [
       "LinearRegression()"
      ]
     },
     "execution_count": 14,
     "metadata": {},
     "output_type": "execute_result"
    }
   ],
   "source": [
    "from sklearn.linear_model import LinearRegression\n",
    "from sklearn.metrics import mean_squared_error, r2_score\n",
    "\n",
    "lin_model = LinearRegression()\n",
    "lin_model.fit(X_train, Y_train)"
   ]
  },
  {
   "cell_type": "code",
   "execution_count": 15,
   "metadata": {
    "id": "_RWmizllz5HP",
    "outputId": "8b134270-d88d-4b7a-8ebc-2da451f47c17"
   },
   "outputs": [
    {
     "data": {
      "text/html": [
       "<div>\n",
       "<style scoped>\n",
       "    .dataframe tbody tr th:only-of-type {\n",
       "        vertical-align: middle;\n",
       "    }\n",
       "\n",
       "    .dataframe tbody tr th {\n",
       "        vertical-align: top;\n",
       "    }\n",
       "\n",
       "    .dataframe thead th {\n",
       "        text-align: right;\n",
       "    }\n",
       "</style>\n",
       "<table border=\"1\" class=\"dataframe\">\n",
       "  <thead>\n",
       "    <tr style=\"text-align: right;\">\n",
       "      <th></th>\n",
       "      <th>LSTAT</th>\n",
       "      <th>RM</th>\n",
       "    </tr>\n",
       "  </thead>\n",
       "  <tbody>\n",
       "    <tr>\n",
       "      <th>33</th>\n",
       "      <td>18.35</td>\n",
       "      <td>5.701</td>\n",
       "    </tr>\n",
       "    <tr>\n",
       "      <th>283</th>\n",
       "      <td>3.16</td>\n",
       "      <td>7.923</td>\n",
       "    </tr>\n",
       "    <tr>\n",
       "      <th>418</th>\n",
       "      <td>20.62</td>\n",
       "      <td>5.957</td>\n",
       "    </tr>\n",
       "    <tr>\n",
       "      <th>502</th>\n",
       "      <td>9.08</td>\n",
       "      <td>6.120</td>\n",
       "    </tr>\n",
       "    <tr>\n",
       "      <th>402</th>\n",
       "      <td>20.31</td>\n",
       "      <td>6.404</td>\n",
       "    </tr>\n",
       "    <tr>\n",
       "      <th>...</th>\n",
       "      <td>...</td>\n",
       "      <td>...</td>\n",
       "    </tr>\n",
       "    <tr>\n",
       "      <th>486</th>\n",
       "      <td>14.98</td>\n",
       "      <td>6.114</td>\n",
       "    </tr>\n",
       "    <tr>\n",
       "      <th>189</th>\n",
       "      <td>5.39</td>\n",
       "      <td>7.185</td>\n",
       "    </tr>\n",
       "    <tr>\n",
       "      <th>495</th>\n",
       "      <td>17.60</td>\n",
       "      <td>5.670</td>\n",
       "    </tr>\n",
       "    <tr>\n",
       "      <th>206</th>\n",
       "      <td>10.97</td>\n",
       "      <td>6.326</td>\n",
       "    </tr>\n",
       "    <tr>\n",
       "      <th>355</th>\n",
       "      <td>5.57</td>\n",
       "      <td>5.936</td>\n",
       "    </tr>\n",
       "  </tbody>\n",
       "</table>\n",
       "<p>404 rows × 2 columns</p>\n",
       "</div>"
      ],
      "text/plain": [
       "     LSTAT     RM\n",
       "33   18.35  5.701\n",
       "283   3.16  7.923\n",
       "418  20.62  5.957\n",
       "502   9.08  6.120\n",
       "402  20.31  6.404\n",
       "..     ...    ...\n",
       "486  14.98  6.114\n",
       "189   5.39  7.185\n",
       "495  17.60  5.670\n",
       "206  10.97  6.326\n",
       "355   5.57  5.936\n",
       "\n",
       "[404 rows x 2 columns]"
      ]
     },
     "execution_count": 15,
     "metadata": {},
     "output_type": "execute_result"
    }
   ],
   "source": [
    "X_train"
   ]
  },
  {
   "cell_type": "code",
   "execution_count": 16,
   "metadata": {
    "id": "vhqtKGcaz5HY",
    "outputId": "24889712-1b75-4855-a1c2-649349a8e1e0"
   },
   "outputs": [
    {
     "name": "stdout",
     "output_type": "stream",
     "text": [
      "The model performance for training set\n",
      "--------------------------------------\n",
      "RMSE is 5.6371293350711955\n",
      "R2 score is 0.6300745149331701\n",
      "\n",
      "\n",
      "The model performance for testing set\n",
      "--------------------------------------\n",
      "RMSE is 5.137400784702911\n",
      "R2 score is 0.6628996975186952\n"
     ]
    }
   ],
   "source": [
    "# model evaluation for training set\n",
    "\n",
    "y_train_predict = lin_model.predict(X_train)\n",
    "rmse = (np.sqrt(mean_squared_error(Y_train, y_train_predict)))\n",
    "r2 = r2_score(Y_train, y_train_predict)\n",
    "\n",
    "print(\"The model performance for training set\")\n",
    "print(\"--------------------------------------\")\n",
    "print('RMSE is {}'.format(rmse))\n",
    "print('R2 score is {}'.format(r2))\n",
    "print(\"\\n\")\n",
    "\n",
    "# model evaluation for testing set\n",
    "\n",
    "y_test_predict = lin_model.predict(X_test)\n",
    "# root mean square error of the model\n",
    "rmse = (np.sqrt(mean_squared_error(Y_test, y_test_predict)))\n",
    "\n",
    "# r-squared score of the model\n",
    "r2 = r2_score(Y_test, y_test_predict)\n",
    "\n",
    "print(\"The model performance for testing set\")\n",
    "print(\"--------------------------------------\")\n",
    "print('RMSE is {}'.format(rmse))\n",
    "print('R2 score is {}'.format(r2))"
   ]
  },
  {
   "cell_type": "code",
   "execution_count": 17,
   "metadata": {
    "id": "ZIips4h7z5Hf",
    "outputId": "ff4b20c8-b269-4701-b6a2-aeef964461f2"
   },
   "outputs": [
    {
     "data": {
      "text/html": [
       "<div>\n",
       "<style scoped>\n",
       "    .dataframe tbody tr th:only-of-type {\n",
       "        vertical-align: middle;\n",
       "    }\n",
       "\n",
       "    .dataframe tbody tr th {\n",
       "        vertical-align: top;\n",
       "    }\n",
       "\n",
       "    .dataframe thead th {\n",
       "        text-align: right;\n",
       "    }\n",
       "</style>\n",
       "<table border=\"1\" class=\"dataframe\">\n",
       "  <thead>\n",
       "    <tr style=\"text-align: right;\">\n",
       "      <th></th>\n",
       "      <th>Test</th>\n",
       "      <th>Pred</th>\n",
       "    </tr>\n",
       "  </thead>\n",
       "  <tbody>\n",
       "    <tr>\n",
       "      <th>0</th>\n",
       "      <td>37.6</td>\n",
       "      <td>37.389994</td>\n",
       "    </tr>\n",
       "    <tr>\n",
       "      <th>1</th>\n",
       "      <td>27.9</td>\n",
       "      <td>29.792906</td>\n",
       "    </tr>\n",
       "    <tr>\n",
       "      <th>2</th>\n",
       "      <td>22.6</td>\n",
       "      <td>25.867553</td>\n",
       "    </tr>\n",
       "    <tr>\n",
       "      <th>3</th>\n",
       "      <td>13.8</td>\n",
       "      <td>0.313708</td>\n",
       "    </tr>\n",
       "    <tr>\n",
       "      <th>4</th>\n",
       "      <td>35.2</td>\n",
       "      <td>33.313856</td>\n",
       "    </tr>\n",
       "    <tr>\n",
       "      <th>...</th>\n",
       "      <td>...</td>\n",
       "      <td>...</td>\n",
       "    </tr>\n",
       "    <tr>\n",
       "      <th>97</th>\n",
       "      <td>26.6</td>\n",
       "      <td>30.357524</td>\n",
       "    </tr>\n",
       "    <tr>\n",
       "      <th>98</th>\n",
       "      <td>22.4</td>\n",
       "      <td>17.889629</td>\n",
       "    </tr>\n",
       "    <tr>\n",
       "      <th>99</th>\n",
       "      <td>13.1</td>\n",
       "      <td>15.355411</td>\n",
       "    </tr>\n",
       "    <tr>\n",
       "      <th>100</th>\n",
       "      <td>23.0</td>\n",
       "      <td>23.680157</td>\n",
       "    </tr>\n",
       "    <tr>\n",
       "      <th>101</th>\n",
       "      <td>24.5</td>\n",
       "      <td>25.431750</td>\n",
       "    </tr>\n",
       "  </tbody>\n",
       "</table>\n",
       "<p>102 rows × 2 columns</p>\n",
       "</div>"
      ],
      "text/plain": [
       "     Test       Pred\n",
       "0    37.6  37.389994\n",
       "1    27.9  29.792906\n",
       "2    22.6  25.867553\n",
       "3    13.8   0.313708\n",
       "4    35.2  33.313856\n",
       "..    ...        ...\n",
       "97   26.6  30.357524\n",
       "98   22.4  17.889629\n",
       "99   13.1  15.355411\n",
       "100  23.0  23.680157\n",
       "101  24.5  25.431750\n",
       "\n",
       "[102 rows x 2 columns]"
      ]
     },
     "execution_count": 17,
     "metadata": {},
     "output_type": "execute_result"
    }
   ],
   "source": [
    "# Creación de DF para graficación y comprensión\n",
    "\n",
    "comp_t = pd.DataFrame({'Test': Y_test})\n",
    "comp_t.reindex(method='bfill')\n",
    "comp_t.index = range(comp_t.shape[0])\n",
    "comp_p = pd.DataFrame({'Pred': y_test_predict})\n",
    "\n",
    "#print(comp_t,round(comp_p,1))\n",
    "\n",
    "comp = pd.merge(comp_t,comp_p,left_index=True, right_index=True)\n",
    "comp"
   ]
  },
  {
   "cell_type": "code",
   "execution_count": null,
   "metadata": {
    "id": "0SrtYkm4z5Ho",
    "outputId": "187bd288-b57e-4ebf-ca48-e0c6ad983ed8"
   },
   "outputs": [
    {
     "data": {
      "text/plain": [
       "<seaborn.axisgrid.FacetGrid at 0x21289f8f898>"
      ]
     },
     "execution_count": 76,
     "metadata": {
      "tags": []
     },
     "output_type": "execute_result"
    },
    {
     "data": {
      "text/plain": [
       "<Figure size 1440x360 with 0 Axes>"
      ]
     },
     "metadata": {
      "tags": []
     },
     "output_type": "display_data"
    },
    {
     "data": {
      "image/png": "[encoded data removed]",
      "text/plain": [
       "<Figure size 360x360 with 1 Axes>"
      ]
     },
     "metadata": {
      "needs_background": "light",
      "tags": []
     },
     "output_type": "display_data"
    }
   ],
   "source": [
    "# Graficar Datos Prueba vs Datos Predictivos\n",
    "\n",
    "sns.lmplot(x='Test',y='Pred',data=comp)\n",
    "\n"
   ]
  },
  {
   "cell_type": "code",
   "execution_count": null,
   "metadata": {
    "id": "ZbLJtq3Vz5Hu"
   },
   "outputs": [],
   "source": []
  },
  {
   "cell_type": "code",
   "execution_count": null,
   "metadata": {
    "id": "JW8SE9NMz5H0"
   },
   "outputs": [],
   "source": [
    "\n",
    "\n",
    "from sklearn.preprocessing import PolynomialFeatures\n",
    "\n",
    "def create_polynomial_regression_model(degree):\n",
    "  \"Creates a polynomial regression model for the given degree\"\n",
    "  poly_features = PolynomialFeatures(degree=degree)\n",
    "  \n",
    "  # transform the features to higher degree features.\n",
    "  X_train_poly = poly_features.fit_transform(X_train)\n",
    "  \n",
    "  # fit the transformed features to Linear Regression\n",
    "  poly_model = LinearRegression()\n",
    "  poly_model.fit(X_train_poly, Y_train)\n",
    "  \n",
    "  # predicting on training data-set\n",
    "  y_train_predicted = poly_model.predict(X_train_poly)\n",
    "  \n",
    "  # predicting on test data-set\n",
    "  y_test_predict = poly_model.predict(poly_features.fit_transform(X_test))\n",
    "  \n",
    "  # evaluating the model on training dataset\n",
    "  rmse_train = np.sqrt(mean_squared_error(Y_train, y_train_predicted))\n",
    "  r2_train = r2_score(Y_train, y_train_predicted)\n",
    "  \n",
    "  # evaluating the model on test dataset\n",
    "  rmse_test = np.sqrt(mean_squared_error(Y_test, y_test_predict))\n",
    "  r2_test = r2_score(Y_test, y_test_predict)\n",
    "  \n",
    "  print(\"The model performance for the training set\")\n",
    "  print(\"-------------------------------------------\")\n",
    "  print(\"RMSE of training set is {}\".format(rmse_train))\n",
    "  print(\"R2 score of training set is {}\".format(r2_train))\n",
    "  \n",
    "  print(\"\\n\")\n",
    "  \n",
    "  print(\"The model performance for the test set\")\n",
    "  print(\"-------------------------------------------\")\n",
    "  print(\"RMSE of test set is {}\".format(rmse_test))\n",
    "  print(\"R2 score of test set is {}\".format(r2_test))\n",
    "\n"
   ]
  },
  {
   "cell_type": "code",
   "execution_count": null,
   "metadata": {
    "id": "VgPHOQhlz5H7",
    "outputId": "3942fee4-7bb7-4ce4-8c25-58a10dbfce29"
   },
   "outputs": [
    {
     "name": "stdout",
     "output_type": "stream",
     "text": [
      "The model performance for the training set\n",
      "-------------------------------------------\n",
      "RMSE of training set is 4.703071027847755\n",
      "R2 score of training set is 0.7425094297364766\n",
      "\n",
      "\n",
      "The model performance for the test set\n",
      "-------------------------------------------\n",
      "RMSE of test set is 3.7848198845450263\n",
      "R2 score of test set is 0.8170372495892192\n"
     ]
    }
   ],
   "source": [
    "create_polynomial_regression_model(2)\n",
    "\n"
   ]
  }
 ],
 "metadata": {
  "colab": {
   "name": "MLinear2.ipynb",
   "provenance": []
  },
  "kernelspec": {
   "display_name": "Python 3 (ipykernel)",
   "language": "python",
   "name": "python3"
  },
  "language_info": {
   "codemirror_mode": {
    "name": "ipython",
    "version": 3
   },
   "file_extension": ".py",
   "mimetype": "text/x-python",
   "name": "python",
   "nbconvert_exporter": "python",
   "pygments_lexer": "ipython3",
   "version": "3.9.12"
  }
 },
 "nbformat": 4,
 "nbformat_minor": 1
}
