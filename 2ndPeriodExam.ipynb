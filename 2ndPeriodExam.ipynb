{
 "cells": [
  {
   "cell_type": "code",
   "execution_count": 1,
   "id": "412ba342",
   "metadata": {},
   "outputs": [
    {
     "data": {
      "text/plain": [
       "'\\n1.- Cargar el archivo a un Data Frame llamado “bk” y crear un subconjunto de 50 registros completos \\n(independiente llamado “sbk” con los atributos (age, job, education, marital, month,balance, campaign).\\n\\n2.- Calcular en “sbk” la media y desviación estandar de los campos (age, balance).\\n\\n3.- Sustituir los valores “0” por la media del atributo “balance” en “bk”.\\n\\n4.- Crear una tabla de frecuencias (conteo) para los atributos (“job”, “education”) y asignarla a \\nuna variable “tbk” del dataset “sbk”.\\n\\n5.- Sustituir en el atributo “education” los valores “unknown” por “primary” y asignarlo a una variable \\nllamada “edu” del dataset “bk”.\\n\\n6.- Filtrar \"bk\", los atributos (education = “secondary”) y (loan = “no\") o (duration >= 100)\\n\\n7.- Filtrar \"bk\" por grupos de acuerdo a los atributos (“job”, “contact”) y sumarizar el campo (\"balance\"), \\nordenarlo de mayor a menor (descendente)\\n\\n8.- Obtener una tabla cruzada donde pueda obtener la media (mean) del atributo “age” y la desviación\\nestandar del atributo “balance” agrupadas por el atributo “education”.  (\"bk\")\\n'"
      ]
     },
     "execution_count": 1,
     "metadata": {},
     "output_type": "execute_result"
    }
   ],
   "source": [
    "'''\n",
    "1.- Cargar el archivo a un Data Frame llamado “bk” y crear un subconjunto de 50 registros completos \n",
    "(independiente llamado “sbk” con los atributos (age, job, education, marital, month,balance, campaign).\n",
    "\n",
    "2.- Calcular en “sbk” la media y desviación estandar de los campos (age, balance).\n",
    "\n",
    "3.- Sustituir los valores “0” por la media del atributo “balance” en “bk”.\n",
    "\n",
    "4.- Crear una tabla de frecuencias (conteo) para los atributos (“job”, “education”) y asignarla a \n",
    "una variable “tbk” del dataset “sbk”.\n",
    "\n",
    "5.- Sustituir en el atributo “education” los valores “unknown” por “primary” y asignarlo a una variable \n",
    "llamada “edu” del dataset “bk”.\n",
    "\n",
    "6.- Filtrar \"bk\", los atributos (education = “secondary”) y (loan = “no\") o (duration >= 100)\n",
    "\n",
    "7.- Filtrar \"bk\" por grupos de acuerdo a los atributos (“job”, “contact”) y sumarizar el campo (\"balance\"), \n",
    "ordenarlo de mayor a menor (descendente)\n",
    "\n",
    "8.- Obtener una tabla cruzada donde pueda obtener la media (mean) del atributo “age” y la desviación\n",
    "estandar del atributo “balance” agrupadas por el atributo “education”.  (\"bk\")\n",
    "'''"
   ]
  },
  {
   "cell_type": "code",
   "execution_count": 2,
   "id": "523d5b1c",
   "metadata": {},
   "outputs": [],
   "source": [
    "# Imports\n",
    "import pandas as pd\n",
    "import numpy as np\n",
    "import matplotlib.pyplot as plt"
   ]
  },
  {
   "cell_type": "code",
   "execution_count": 3,
   "id": "fd5e2d42",
   "metadata": {},
   "outputs": [
    {
     "name": "stdout",
     "output_type": "stream",
     "text": [
      "    Unnamed: 0  age          job   marital  education default  balance  \\\n",
      "0            1   30   unemployed   married    primary      no     1787   \n",
      "1            2   33     services   married  secondary      no     4789   \n",
      "2            3   35   management    single   tertiary      no     1350   \n",
      "3            4   30   management   married   tertiary      no     1476   \n",
      "4            5   59  blue-collar   married  secondary      no        0   \n",
      "..         ...  ...          ...       ...        ...     ...      ...   \n",
      "95          96   41      unknown    single   tertiary      no     1567   \n",
      "96          97   41       admin.   married   tertiary      no     5426   \n",
      "97          98   30       admin.    single   tertiary      no      261   \n",
      "98          99   36  blue-collar  divorced  secondary      no     2843   \n",
      "99         100   31   unemployed    single    primary      no      406   \n",
      "\n",
      "   housing loan   contact  day month  duration  campaign  \n",
      "0       no   no  cellular   19   oct        79         1  \n",
      "1      yes  yes  cellular   11   may       220         1  \n",
      "2      yes   no  cellular   16   apr       185         1  \n",
      "3      yes  yes   unknown    3   jun       199         4  \n",
      "4      yes   no   unknown    5   may       226         1  \n",
      "..     ...  ...       ...  ...   ...       ...       ...  \n",
      "95      no   no  cellular    1   jul       291         2  \n",
      "96     yes   no   unknown   14   may       149         2  \n",
      "97      no   no  cellular   19   oct       233         1  \n",
      "98      no   no  cellular   12   feb       473         1  \n",
      "99      no   no  cellular    4   feb       736         1  \n",
      "\n",
      "[100 rows x 14 columns]\n"
     ]
    }
   ],
   "source": [
    "'''\n",
    "1.- Cargar el archivo a un Data Frame llamado “bk” y crear un subconjunto de 50 registros completos \n",
    "(independiente llamado “sbk” con los atributos (age, job, education, marital, month,balance, campaign).\n",
    "'''\n",
    "# We create our dataFrame\n",
    "bk = pd.read_csv('bank2.csv')\n",
    "print(bk)"
   ]
  },
  {
   "cell_type": "code",
   "execution_count": 4,
   "id": "5f1c2d38",
   "metadata": {},
   "outputs": [
    {
     "name": "stdout",
     "output_type": "stream",
     "text": [
      "    age            job   marital  education month  balance  campaign\n",
      "0    30     unemployed   married    primary   oct     1787         1\n",
      "1    33       services   married  secondary   may     4789         1\n",
      "2    35     management    single   tertiary   apr     1350         1\n",
      "3    30     management   married   tertiary   jun     1476         4\n",
      "4    59    blue-collar   married  secondary   may        0         1\n",
      "5    35     management    single   tertiary   feb      747         2\n",
      "6    36  self-employed   married   tertiary   may      307         1\n",
      "7    39     technician   married  secondary   may      147         2\n",
      "8    41   entrepreneur   married   tertiary   may      221         2\n",
      "9    43       services   married    primary   apr      -88         1\n",
      "10   39       services   married  secondary   may     9374         1\n",
      "11   43         admin.   married  secondary   apr      264         2\n",
      "12   36     technician   married   tertiary   aug     1109         2\n",
      "13   20        student    single  secondary   apr      502         1\n",
      "14   31    blue-collar   married  secondary   jan      360         1\n",
      "15   40     management   married   tertiary   aug      194         2\n",
      "16   56     technician   married  secondary   aug     4073         5\n",
      "17   37         admin.    single   tertiary   apr     2317         1\n",
      "18   25    blue-collar    single    primary   may     -221         1\n",
      "19   31       services   married  secondary   jul      132         1\n",
      "20   38     management  divorced    unknown   nov        0         2\n",
      "21   42     management  divorced   tertiary   nov       16         3\n",
      "22   44       services    single  secondary   jun      106         2\n",
      "23   44   entrepreneur   married  secondary   jul       93         2\n",
      "24   26      housemaid   married   tertiary   jan      543         3\n",
      "25   41     management   married   tertiary   nov     5883         2\n",
      "26   55    blue-collar   married    primary   may      627         1\n",
      "27   67        retired   married    unknown   aug      696         1\n",
      "28   56  self-employed   married  secondary   jul      784         2\n",
      "29   53         admin.   married  secondary   aug      105         2\n",
      "30   68        retired  divorced  secondary   jul     4189         2\n",
      "31   31     technician   married  secondary   aug      171         3\n",
      "32   59     management   married  secondary   nov       42         1\n",
      "33   32     management    single   tertiary   aug     2536         6\n",
      "34   49     technician   married   tertiary   aug     1235         3\n",
      "35   42         admin.  divorced  secondary   may     1811         1\n",
      "36   78        retired  divorced    primary   oct      229         1\n",
      "37   32    blue-collar   married  secondary   nov     2089         1\n",
      "38   33     management   married  secondary   may     3935         1\n",
      "39   23       services    single   tertiary   may      363        18\n",
      "40   38     management    single   tertiary   nov    11971         2\n",
      "41   36     management    single   tertiary   aug      553         2\n",
      "42   52    blue-collar   married  secondary   may     1117         1\n",
      "43   32     technician   married   tertiary   may      396         3\n",
      "44   32     technician    single   tertiary   nov     2204         4\n",
      "45   34     management    single   tertiary   may      872         2\n",
      "46   55    blue-collar   married    primary   feb      145         3\n",
      "47   26    blue-collar   married    primary   may        0         1\n",
      "48   32   entrepreneur    single    primary   feb     -849         1\n",
      "49   61         admin.   married    unknown   jan     4629         1\n"
     ]
    }
   ],
   "source": [
    "# Creation of a sub-group\n",
    "sbk = bk[[\"age\", \"job\", \"marital\", \"education\", \"month\", \"balance\", \"campaign\"]]\n",
    "sbk = sbk.loc[0:49]\n",
    "print(sbk)"
   ]
  },
  {
   "cell_type": "code",
   "execution_count": 5,
   "id": "2d91b7e2",
   "metadata": {},
   "outputs": [
    {
     "data": {
      "text/plain": [
       "'\\n2.- Calcular en “sbk” la media y desviación estandar de los campos (age, balance).\\n'"
      ]
     },
     "execution_count": 5,
     "metadata": {},
     "output_type": "execute_result"
    }
   ],
   "source": [
    "'''\n",
    "2.- Calcular en “sbk” la media y desviación estandar de los campos (age, balance).\n",
    "'''"
   ]
  },
  {
   "cell_type": "code",
   "execution_count": 6,
   "id": "b45bca76",
   "metadata": {},
   "outputs": [
    {
     "name": "stdout",
     "output_type": "stream",
     "text": [
      "Mean age:  41.0\n",
      "Mean balance:  1506.62\n"
     ]
    }
   ],
   "source": [
    "# Get the mean from age and balance\n",
    "meanAge = sbk['age'].mean()\n",
    "meanBalance = sbk['balance'].mean()\n",
    "print('Mean age: ', meanAge)\n",
    "print('Mean balance: ', meanBalance)"
   ]
  },
  {
   "cell_type": "code",
   "execution_count": 7,
   "id": "e67d75d6",
   "metadata": {},
   "outputs": [
    {
     "name": "stdout",
     "output_type": "stream",
     "text": [
      "Standard deviation age:  12.62165292063522\n",
      "Standard deviation balance:  2420.3931784665374\n"
     ]
    }
   ],
   "source": [
    "# Get the standard deviation from age and balance\n",
    "deviationAge = sbk['age'].std()\n",
    "deviationBalance = sbk['balance'].std()\n",
    "print('Standard deviation age: ', deviationAge)\n",
    "print('Standard deviation balance: ', deviationBalance)"
   ]
  },
  {
   "cell_type": "code",
   "execution_count": 8,
   "id": "cf17b331",
   "metadata": {},
   "outputs": [
    {
     "data": {
      "text/plain": [
       "'\\n3.- Sustituir los valores “0” por la media del atributo “balance” en “bk”.\\n'"
      ]
     },
     "execution_count": 8,
     "metadata": {},
     "output_type": "execute_result"
    }
   ],
   "source": [
    "'''\n",
    "3.- Sustituir los valores “0” por la media del atributo “balance” en “bk”.\n",
    "'''"
   ]
  },
  {
   "cell_type": "code",
   "execution_count": 9,
   "id": "efab846f",
   "metadata": {},
   "outputs": [
    {
     "name": "stdout",
     "output_type": "stream",
     "text": [
      "    Unnamed: 0  age          job   marital  education default  balance  \\\n",
      "0            1   30   unemployed   married    primary      no  1787.00   \n",
      "1            2   33     services   married  secondary      no  4789.00   \n",
      "2            3   35   management    single   tertiary      no  1350.00   \n",
      "3            4   30   management   married   tertiary      no  1476.00   \n",
      "4            5   59  blue-collar   married  secondary      no  1506.62   \n",
      "..         ...  ...          ...       ...        ...     ...      ...   \n",
      "95          96   41      unknown    single   tertiary      no  1567.00   \n",
      "96          97   41       admin.   married   tertiary      no  5426.00   \n",
      "97          98   30       admin.    single   tertiary      no   261.00   \n",
      "98          99   36  blue-collar  divorced  secondary      no  2843.00   \n",
      "99         100   31   unemployed    single    primary      no   406.00   \n",
      "\n",
      "   housing loan   contact  day month  duration  campaign  \n",
      "0       no   no  cellular   19   oct        79         1  \n",
      "1      yes  yes  cellular   11   may       220         1  \n",
      "2      yes   no  cellular   16   apr       185         1  \n",
      "3      yes  yes   unknown    3   jun       199         4  \n",
      "4      yes   no   unknown    5   may       226         1  \n",
      "..     ...  ...       ...  ...   ...       ...       ...  \n",
      "95      no   no  cellular    1   jul       291         2  \n",
      "96     yes   no   unknown   14   may       149         2  \n",
      "97      no   no  cellular   19   oct       233         1  \n",
      "98      no   no  cellular   12   feb       473         1  \n",
      "99      no   no  cellular    4   feb       736         1  \n",
      "\n",
      "[100 rows x 14 columns]\n"
     ]
    }
   ],
   "source": [
    "# Substitue in bk the attribute balance with the mean\n",
    "bk['balance'] = bk['balance'].replace(0,meanBalance)\n",
    "print(bk)"
   ]
  },
  {
   "cell_type": "code",
   "execution_count": 10,
   "id": "486d436b",
   "metadata": {},
   "outputs": [
    {
     "data": {
      "text/plain": [
       "'\\n4.- Crear una tabla de frecuencias (conteo) para los atributos (“job”, “education”) y asignarla a \\nuna variable “tbk” del dataset “sbk”.\\n'"
      ]
     },
     "execution_count": 10,
     "metadata": {},
     "output_type": "execute_result"
    }
   ],
   "source": [
    "'''\n",
    "4.- Crear una tabla de frecuencias (conteo) para los atributos (“job”, “education”) y asignarla a \n",
    "una variable “tbk” del dataset “sbk”.\n",
    "'''"
   ]
  },
  {
   "cell_type": "code",
   "execution_count": 11,
   "id": "6817e095",
   "metadata": {},
   "outputs": [
    {
     "name": "stdout",
     "output_type": "stream",
     "text": [
      "management       13\n",
      "blue-collar       8\n",
      "technician        7\n",
      "services          6\n",
      "admin.            5\n",
      "entrepreneur      3\n",
      "retired           3\n",
      "self-employed     2\n",
      "unemployed        1\n",
      "student           1\n",
      "housemaid         1\n",
      "Name: job, dtype: int64\n"
     ]
    }
   ],
   "source": [
    "# Job frequency table\n",
    "bkJob = sbk[['job']]\n",
    "tbkJob = bkJob['job'].value_counts()\n",
    "print(tbkJob)"
   ]
  },
  {
   "cell_type": "code",
   "execution_count": 12,
   "id": "ba17889b",
   "metadata": {},
   "outputs": [
    {
     "name": "stdout",
     "output_type": "stream",
     "text": [
      "secondary    20\n",
      "tertiary     19\n",
      "primary       8\n",
      "unknown       3\n",
      "Name: education, dtype: int64\n"
     ]
    }
   ],
   "source": [
    "# Education frequency table\n",
    "bkEducation = sbk[['education']]\n",
    "tbkEducation = bkEducation['education'].value_counts()\n",
    "print(tbkEducation)"
   ]
  },
  {
   "cell_type": "code",
   "execution_count": 13,
   "id": "c1bc43b9",
   "metadata": {},
   "outputs": [
    {
     "data": {
      "text/plain": [
       "'\\n5.- Sustituir en el atributo “education” los valores “unknown” por “primary” y asignarlo a una variable \\nllamada “edu” del dataset “bk”.\\n'"
      ]
     },
     "execution_count": 13,
     "metadata": {},
     "output_type": "execute_result"
    }
   ],
   "source": [
    "'''\n",
    "5.- Sustituir en el atributo “education” los valores “unknown” por “primary” y asignarlo a una variable \n",
    "llamada “edu” del dataset “bk”.\n",
    "'''"
   ]
  },
  {
   "cell_type": "code",
   "execution_count": 18,
   "id": "7f38e3c7",
   "metadata": {},
   "outputs": [
    {
     "name": "stdout",
     "output_type": "stream",
     "text": [
      "    Unnamed: 0  age         job   marital education default  balance housing  \\\n",
      "20          21   38  management  divorced   primary      no  1506.62     yes   \n",
      "27          28   67     retired   married   primary      no   696.00      no   \n",
      "49          50   61      admin.   married   primary      no  4629.00     yes   \n",
      "\n",
      "   loan    contact  day month  duration  campaign  \n",
      "20   no   cellular   18   nov        96         2  \n",
      "27   no  telephone   17   aug       119         1  \n",
      "49   no   cellular   27   jan       181         1  \n"
     ]
    },
    {
     "name": "stderr",
     "output_type": "stream",
     "text": [
      "C:\\Users\\victo_hhsj\\AppData\\Local\\Temp\\ipykernel_3872\\3549756255.py:3: SettingWithCopyWarning: \n",
      "A value is trying to be set on a copy of a slice from a DataFrame.\n",
      "Try using .loc[row_indexer,col_indexer] = value instead\n",
      "\n",
      "See the caveats in the documentation: https://pandas.pydata.org/pandas-docs/stable/user_guide/indexing.html#returning-a-view-versus-a-copy\n",
      "  edu['education'] = edu['education'].replace('unknown','primary')\n"
     ]
    }
   ],
   "source": [
    "# Dataframe without unknown's in the education column\n",
    "edu = bk.loc[bk[\"education\"] == \"unknown\"]\n",
    "edu['education'] = edu['education'].replace('unknown','primary')\n",
    "print(edu)"
   ]
  },
  {
   "cell_type": "code",
   "execution_count": 40,
   "id": "4c76abcc",
   "metadata": {},
   "outputs": [
    {
     "name": "stdout",
     "output_type": "stream",
     "text": [
      "    Unnamed: 0  age          job   marital  education default  balance  \\\n",
      "1            2   33     services   married  secondary      no  4789.00   \n",
      "2            3   35   management    single   tertiary      no  1350.00   \n",
      "3            4   30   management   married   tertiary      no  1476.00   \n",
      "4            5   59  blue-collar   married  secondary      no  1506.62   \n",
      "5            6   35   management    single   tertiary      no   747.00   \n",
      "..         ...  ...          ...       ...        ...     ...      ...   \n",
      "95          96   41      unknown    single   tertiary      no  1567.00   \n",
      "96          97   41       admin.   married   tertiary      no  5426.00   \n",
      "97          98   30       admin.    single   tertiary      no   261.00   \n",
      "98          99   36  blue-collar  divorced  secondary      no  2843.00   \n",
      "99         100   31   unemployed    single    primary      no   406.00   \n",
      "\n",
      "   housing loan   contact  day month  duration  campaign  \n",
      "1      yes  yes  cellular   11   may       220         1  \n",
      "2      yes   no  cellular   16   apr       185         1  \n",
      "3      yes  yes   unknown    3   jun       199         4  \n",
      "4      yes   no   unknown    5   may       226         1  \n",
      "5       no   no  cellular   23   feb       141         2  \n",
      "..     ...  ...       ...  ...   ...       ...       ...  \n",
      "95      no   no  cellular    1   jul       291         2  \n",
      "96     yes   no   unknown   14   may       149         2  \n",
      "97      no   no  cellular   19   oct       233         1  \n",
      "98      no   no  cellular   12   feb       473         1  \n",
      "99      no   no  cellular    4   feb       736         1  \n",
      "\n",
      "[87 rows x 14 columns]\n"
     ]
    }
   ],
   "source": [
    "'''\n",
    "6.- Filtrar \"bk\", los atributos (education = “secondary”) y (loan = “no\") o (duration >= 100)\n",
    "'''\n",
    "multipleCondition = bk[(bk[\"duration\"] >= 100) | ((bk[\"education\"] == \"secondary\") & (bk[\"loan\"] == \"no\"))]\n",
    "print(multipleCondition)"
   ]
  },
  {
   "cell_type": "markdown",
   "id": "3758553c",
   "metadata": {},
   "source": []
  },
  {
   "cell_type": "code",
   "execution_count": 55,
   "id": "e72f6b26",
   "metadata": {},
   "outputs": [
    {
     "name": "stdout",
     "output_type": "stream",
     "text": [
      "                          balance\n",
      "job           contact            \n",
      "admin.        cellular   25501.00\n",
      "              telephone   3064.00\n",
      "              unknown     7237.00\n",
      "blue-collar   cellular   23609.00\n",
      "              telephone   -371.00\n",
      "              unknown     8308.24\n",
      "entrepreneur  cellular    -756.00\n",
      "              unknown      223.00\n",
      "housemaid     cellular     543.00\n",
      "management    cellular   33815.86\n",
      "              telephone     82.00\n",
      "              unknown    20567.00\n",
      "retired       cellular     420.00\n",
      "              telephone   5114.00\n",
      "              unknown      445.00\n",
      "self-employed cellular    3246.00\n",
      "services      cellular    6331.00\n",
      "              telephone    657.00\n",
      "              unknown    10255.00\n",
      "student       cellular     502.00\n",
      "technician    cellular   13426.00\n",
      "              unknown      784.00\n",
      "unemployed    cellular    2412.00\n",
      "unknown       cellular    1567.00\n"
     ]
    }
   ],
   "source": [
    "'''\n",
    "7.- Filtrar \"bk\" por grupos de acuerdo a los atributos (“job”, “contact”) y sumarizar el campo (\"balance\"), \n",
    "ordenarlo de mayor a menor (descendente)\n",
    "'''\n",
    "filteredBk = bk[[\"job\", \"contact\", \"balance\"]]\n",
    "filteredGroup = (filteredBk.groupby(['job', 'contact']).sum())\n",
    "filteredGroup.sort_values(\"balance\", ascending = False)\n",
    "print(filteredGroup)"
   ]
  },
  {
   "cell_type": "code",
   "execution_count": 56,
   "id": "80d79a07",
   "metadata": {},
   "outputs": [
    {
     "name": "stderr",
     "output_type": "stream",
     "text": [
      "C:\\Users\\victo_hhsj\\AppData\\Local\\Temp\\ipykernel_3872\\61130773.py:5: FutureWarning: ['job', 'marital', 'default', 'housing', 'loan', 'contact', 'month'] did not aggregate successfully. If any error is raised this will raise in a future version of pandas. Drop these columns/ops to avoid this warning.\n",
      "  bk.groupby('education').aggregate([np.mean, np.std])\n"
     ]
    },
    {
     "data": {
      "text/html": [
       "<div>\n",
       "<style scoped>\n",
       "    .dataframe tbody tr th:only-of-type {\n",
       "        vertical-align: middle;\n",
       "    }\n",
       "\n",
       "    .dataframe tbody tr th {\n",
       "        vertical-align: top;\n",
       "    }\n",
       "\n",
       "    .dataframe thead tr th {\n",
       "        text-align: left;\n",
       "    }\n",
       "\n",
       "    .dataframe thead tr:last-of-type th {\n",
       "        text-align: right;\n",
       "    }\n",
       "</style>\n",
       "<table border=\"1\" class=\"dataframe\">\n",
       "  <thead>\n",
       "    <tr>\n",
       "      <th></th>\n",
       "      <th colspan=\"2\" halign=\"left\">Unnamed: 0</th>\n",
       "      <th colspan=\"2\" halign=\"left\">age</th>\n",
       "      <th colspan=\"2\" halign=\"left\">balance</th>\n",
       "      <th colspan=\"2\" halign=\"left\">day</th>\n",
       "      <th colspan=\"2\" halign=\"left\">duration</th>\n",
       "      <th colspan=\"2\" halign=\"left\">campaign</th>\n",
       "    </tr>\n",
       "    <tr>\n",
       "      <th></th>\n",
       "      <th>mean</th>\n",
       "      <th>std</th>\n",
       "      <th>mean</th>\n",
       "      <th>std</th>\n",
       "      <th>mean</th>\n",
       "      <th>std</th>\n",
       "      <th>mean</th>\n",
       "      <th>std</th>\n",
       "      <th>mean</th>\n",
       "      <th>std</th>\n",
       "      <th>mean</th>\n",
       "      <th>std</th>\n",
       "    </tr>\n",
       "    <tr>\n",
       "      <th>education</th>\n",
       "      <th></th>\n",
       "      <th></th>\n",
       "      <th></th>\n",
       "      <th></th>\n",
       "      <th></th>\n",
       "      <th></th>\n",
       "      <th></th>\n",
       "      <th></th>\n",
       "      <th></th>\n",
       "      <th></th>\n",
       "      <th></th>\n",
       "      <th></th>\n",
       "    </tr>\n",
       "  </thead>\n",
       "  <tbody>\n",
       "    <tr>\n",
       "      <th>primary</th>\n",
       "      <td>56.941176</td>\n",
       "      <td>31.151787</td>\n",
       "      <td>42.941176</td>\n",
       "      <td>13.988703</td>\n",
       "      <td>387.565882</td>\n",
       "      <td>702.765853</td>\n",
       "      <td>13.882353</td>\n",
       "      <td>9.191588</td>\n",
       "      <td>367.411765</td>\n",
       "      <td>269.648396</td>\n",
       "      <td>1.705882</td>\n",
       "      <td>0.848875</td>\n",
       "    </tr>\n",
       "    <tr>\n",
       "      <th>secondary</th>\n",
       "      <td>51.617021</td>\n",
       "      <td>28.084928</td>\n",
       "      <td>43.063830</td>\n",
       "      <td>11.316406</td>\n",
       "      <td>1824.515745</td>\n",
       "      <td>3403.739716</td>\n",
       "      <td>15.106383</td>\n",
       "      <td>7.755038</td>\n",
       "      <td>284.127660</td>\n",
       "      <td>287.635535</td>\n",
       "      <td>1.851064</td>\n",
       "      <td>1.215457</td>\n",
       "    </tr>\n",
       "    <tr>\n",
       "      <th>tertiary</th>\n",
       "      <td>47.181818</td>\n",
       "      <td>30.109648</td>\n",
       "      <td>36.606061</td>\n",
       "      <td>6.397946</td>\n",
       "      <td>2054.836970</td>\n",
       "      <td>2529.860043</td>\n",
       "      <td>16.000000</td>\n",
       "      <td>7.681146</td>\n",
       "      <td>230.939394</td>\n",
       "      <td>179.939736</td>\n",
       "      <td>2.696970</td>\n",
       "      <td>2.984175</td>\n",
       "    </tr>\n",
       "    <tr>\n",
       "      <th>unknown</th>\n",
       "      <td>33.000000</td>\n",
       "      <td>15.132746</td>\n",
       "      <td>55.333333</td>\n",
       "      <td>15.307950</td>\n",
       "      <td>2277.206667</td>\n",
       "      <td>2076.649972</td>\n",
       "      <td>20.666667</td>\n",
       "      <td>5.507571</td>\n",
       "      <td>132.000000</td>\n",
       "      <td>43.965896</td>\n",
       "      <td>1.333333</td>\n",
       "      <td>0.577350</td>\n",
       "    </tr>\n",
       "  </tbody>\n",
       "</table>\n",
       "</div>"
      ],
      "text/plain": [
       "          Unnamed: 0                   age                 balance  \\\n",
       "                mean        std       mean        std         mean   \n",
       "education                                                            \n",
       "primary    56.941176  31.151787  42.941176  13.988703   387.565882   \n",
       "secondary  51.617021  28.084928  43.063830  11.316406  1824.515745   \n",
       "tertiary   47.181818  30.109648  36.606061   6.397946  2054.836970   \n",
       "unknown    33.000000  15.132746  55.333333  15.307950  2277.206667   \n",
       "\n",
       "                              day              duration              campaign  \\\n",
       "                   std       mean       std        mean         std      mean   \n",
       "education                                                                       \n",
       "primary     702.765853  13.882353  9.191588  367.411765  269.648396  1.705882   \n",
       "secondary  3403.739716  15.106383  7.755038  284.127660  287.635535  1.851064   \n",
       "tertiary   2529.860043  16.000000  7.681146  230.939394  179.939736  2.696970   \n",
       "unknown    2076.649972  20.666667  5.507571  132.000000   43.965896  1.333333   \n",
       "\n",
       "                     \n",
       "                std  \n",
       "education            \n",
       "primary    0.848875  \n",
       "secondary  1.215457  \n",
       "tertiary   2.984175  \n",
       "unknown    0.577350  "
      ]
     },
     "execution_count": 56,
     "metadata": {},
     "output_type": "execute_result"
    }
   ],
   "source": [
    "'''\n",
    "8.- Obtener una tabla cruzada donde pueda obtener la media (mean) del atributo “age” y la desviación\n",
    "estandar del atributo “balance” agrupadas por el atributo “education”.  (\"bk\")\n",
    "'''\n",
    "# First we group by \"education\" and later we aggregate the mean and the deviation\n",
    "crossedTable = bk.groupby('education').aggregate([np.mean, np.std])\n",
    "print(crossedTable)"
   ]
  },
  {
   "cell_type": "code",
   "execution_count": null,
   "id": "45b52be4",
   "metadata": {},
   "outputs": [],
   "source": []
  },
  {
   "cell_type": "code",
   "execution_count": null,
   "id": "f51b7a50",
   "metadata": {},
   "outputs": [],
   "source": []
  },
  {
   "cell_type": "code",
   "execution_count": null,
   "id": "1d09fa73",
   "metadata": {},
   "outputs": [],
   "source": []
  },
  {
   "cell_type": "code",
   "execution_count": null,
   "id": "036a7616",
   "metadata": {},
   "outputs": [],
   "source": []
  },
  {
   "cell_type": "code",
   "execution_count": null,
   "id": "e2e79fc3",
   "metadata": {},
   "outputs": [],
   "source": []
  },
  {
   "cell_type": "code",
   "execution_count": null,
   "id": "8d053eaf",
   "metadata": {},
   "outputs": [],
   "source": []
  },
  {
   "cell_type": "code",
   "execution_count": null,
   "id": "0c1f6b0e",
   "metadata": {},
   "outputs": [],
   "source": []
  },
  {
   "cell_type": "code",
   "execution_count": null,
   "id": "2f0468b4",
   "metadata": {},
   "outputs": [],
   "source": []
  }
 ],
 "metadata": {
  "kernelspec": {
   "display_name": "Python 3 (ipykernel)",
   "language": "python",
   "name": "python3"
  },
  "language_info": {
   "codemirror_mode": {
    "name": "ipython",
    "version": 3
   },
   "file_extension": ".py",
   "mimetype": "text/x-python",
   "name": "python",
   "nbconvert_exporter": "python",
   "pygments_lexer": "ipython3",
   "version": "3.9.12"
  }
 },
 "nbformat": 4,
 "nbformat_minor": 5
}
